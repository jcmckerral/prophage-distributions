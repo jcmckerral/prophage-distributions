{
 "cells": [
  {
   "cell_type": "markdown",
   "metadata": {},
   "source": [
    "# Figures and analyses for propgage paper\n",
    "\n",
    "Figures and statistical tests appear in the order that they do in the manuscript. Supplementary figures are at the end.\n",
    "\n",
    "Note that we import a package from R for Hartigan's dip test, i.e. you will need a working installation of R configured to work with python to run that part of the notebook."
   ]
  },
  {
   "cell_type": "markdown",
   "metadata": {},
   "source": [
    "### Import packages"
   ]
  },
  {
   "cell_type": "code",
   "execution_count": 1,
   "metadata": {
    "pycharm": {
     "is_executing": true
    }
   },
   "outputs": [],
   "source": [
    "import os\n",
    "import sys\n",
    "sys.path.append('/Users/JFisher/Dropbox/Flinders/FAME/PhispyAnalysis-main/prophage-distributions/')\n",
    "\n",
    "import pandas as pd\n",
    "import numpy as np\n",
    "\n",
    "import math\n",
    "import re\n",
    "import string\n",
    "\n",
    "from PhiSpyAnalysis import theils_u, DateConverter, printmd\n",
    "from PhiSpyAnalysis import read_phages, read_gtdb, read_checkv, read_base_pp, read_categories, read_metadata, read_transposons\n",
    "from Bio import Phylo\n",
    "\n",
    "# Statts packages\n",
    "from scipy.stats import pearsonr, f_oneway, mannwhitneyu\n",
    "import scipy as scp\n",
    "from sklearn.linear_model import LinearRegression\n",
    "from sklearn.model_selection import train_test_split, LeaveOneGroupOut\n",
    "from sklearn import metrics\n",
    "import statsmodels.api as sm\n",
    "from statsmodels.formula.api import ols\n",
    "from statsmodels.stats.multicomp import pairwise_tukeyhsd, tukeyhsd, MultiComparison\n",
    "from statsmodels.multivariate.manova import MANOVA\n",
    "from sklearn import decomposition\n",
    "from sklearn.ensemble import RandomForestClassifier\n",
    "\n",
    "# for parsing collection dates\n",
    "from dateutil.parser import parse, ParserError\n",
    "import pytz\n",
    "\n",
    "import subprocess\n",
    "import gzip\n",
    "import pickle as pkl\n",
    "\n",
    "# import function dc which converts a date to a year and decimal (e.g. 1/1/1900 is 1900.00)\n",
    "dc = DateConverter()\n"
   ]
  },
  {
   "cell_type": "markdown",
   "metadata": {},
   "source": [
    "### Import R related packages\n",
    "\n",
    "If you don't have R, don't import this section - it just means that you won't be able to plot some of Fig 2"
   ]
  },
  {
   "cell_type": "code",
   "execution_count": 2,
   "metadata": {},
   "outputs": [],
   "source": [
    "import rpy2.robjects as robjects\n",
    "from rpy2.robjects.packages import importr\n",
    "from rpy2.robjects import pandas2ri\n",
    "from rpy2.robjects import Formula\n"
   ]
  },
  {
   "cell_type": "markdown",
   "metadata": {},
   "source": [
    "### Import plot tools and figure settings\n",
    "Matplotlib and seaborn plus colour-blind friendly colour scheme"
   ]
  },
  {
   "cell_type": "code",
   "execution_count": 3,
   "metadata": {
    "pycharm": {
     "is_executing": true
    }
   },
   "outputs": [],
   "source": [
    "import matplotlib.pyplot as plt\n",
    "import matplotlib.pyplot as plt\n",
    "plt.rcParams[\"axes.grid\"] = False\n",
    "\n",
    "import seaborn as sns\n",
    "import matplotlib as mpl\n",
    "import matplotlib.gridspec as gridspec\n",
    "import matplotlib.ticker as mtick\n",
    "\n",
    "formatter = mtick.ScalarFormatter(useMathText=True)\n",
    "formatter.set_scientific(True)\n",
    "from matplotlib.lines import Line2D\n",
    "from matplotlib.colors import LogNorm, Normalize\n",
    "import matplotlib.cm as cm\n",
    "from matplotlib.colors import Normalize\n",
    "from matplotlib import colors\n",
    "\n",
    "\n",
    "colourDict = dict(zip(['rose', 'indigo', 'sand', 'green', 'cyan', 'wine', 'teal', 'olive', 'purple', 'pale_grey', 'black'],\n",
    "                 ['#CC6677', '#332288', '#DDCC77', '#117733', '#88CCEE',\n",
    "                    '#882255', '#44AA99', '#999933', '#AA4499', '#DDDDDD',\n",
    "                    '#000000']))"
   ]
  },
  {
   "cell_type": "markdown",
   "metadata": {},
   "source": [
    "##### Matplotlib formatting. Latex may be required."
   ]
  },
  {
   "cell_type": "code",
   "execution_count": 4,
   "metadata": {
    "pycharm": {
     "is_executing": true
    }
   },
   "outputs": [
    {
     "name": "stderr",
     "output_type": "stream",
     "text": [
      "<ipython-input-4-8f08e9c82c52>:12: MatplotlibDeprecationWarning: Support for setting the 'text.latex.preamble' or 'pgf.preamble' rcParam to a list of strings is deprecated since 3.3 and will be removed two minor releases later; set it to a single string instead.\n",
      "  mpl.rcParams['text.latex.preamble'] = [r'\\usepackage[cm]{sfmath}',r'\\usepackage{underscore}']\n"
     ]
    }
   ],
   "source": [
    "fig_width_pt = 410.0  # Get this from LaTeX using \\showthe\\columnwidth\n",
    "inches_per_pt = 1.0/72.27               # Convert pt to inch\n",
    "golden_mean = (np.sqrt(5)-1.0)/2.0         # Aesthetic ratio\n",
    "fig_width = fig_width_pt*inches_per_pt  # width in inches\n",
    "fig_height = fig_width*golden_mean       # height in inches\n",
    "fig_size =  [fig_width,fig_height]\n",
    "params = {'backend': 'ps','axes.labelsize': 8,'font.size': 8,\n",
    "          'legend.fontsize': 8,'xtick.labelsize': 8,'ytick.labelsize': 8,\n",
    "          'text.usetex': True,'figure.figsize': fig_size, 'axes.linewidth':0.3}\n",
    "\n",
    "# Depending on your latex installation, one or both of these may be required\n",
    "mpl.rcParams['text.latex.preamble'] = [r'\\usepackage[cm]{sfmath}',r'\\usepackage{underscore}']\n",
    "plt.rcParams[\"text.latex.preamble\"].join([r'\\usepackage[cm]{sfmath}',r'\\usepackage{underscore}'])\n",
    "\n",
    "mpl.rcParams['font.family'] = 'sans-serif'\n",
    "mpl.rcParams['font.sans-serif'] = 'cm'\n",
    "mpl.rcParams['text.usetex']=False\n",
    "mpl.rcParams['figure.dpi'] = 300\n",
    "\n",
    "\n",
    "mpl.rcParams.update(params)"
   ]
  },
  {
   "cell_type": "markdown",
   "metadata": {},
   "source": [
    "### Other useful functions and methods"
   ]
  },
  {
   "cell_type": "code",
   "execution_count": 5,
   "metadata": {},
   "outputs": [],
   "source": [
    "# Change seaborn figure level plots to something which can be used in gridspec\n",
    "class SeabornFig2Grid():\n",
    "\n",
    "    def __init__(self, seaborngrid, fig,  subplot_spec):\n",
    "        self.fig = fig\n",
    "        self.sg = seaborngrid\n",
    "        self.subplot = subplot_spec\n",
    "        if isinstance(self.sg, sns.axisgrid.FacetGrid) or \\\n",
    "            isinstance(self.sg, sns.axisgrid.PairGrid):\n",
    "            self._movegrid()\n",
    "        elif isinstance(self.sg, sns.axisgrid.JointGrid):\n",
    "            self._movejointgrid()\n",
    "        self._finalize()\n",
    "\n",
    "    def _movegrid(self):\n",
    "        \"\"\" Move PairGrid or Facetgrid \"\"\"\n",
    "        self._resize()\n",
    "        n = self.sg.axes.shape[0]\n",
    "        m = self.sg.axes.shape[1]\n",
    "        self.subgrid = gridspec.GridSpecFromSubplotSpec(n,m, subplot_spec=self.subplot)\n",
    "        for i in range(n):\n",
    "            for j in range(m):\n",
    "                self._moveaxes(self.sg.axes[i,j], self.subgrid[i,j])\n",
    "\n",
    "    def _movejointgrid(self):\n",
    "        \"\"\" Move Jointgrid \"\"\"\n",
    "        h= self.sg.ax_joint.get_position().height\n",
    "        h2= self.sg.ax_marg_x.get_position().height\n",
    "        r = int(np.round(h/h2))\n",
    "        self._resize()\n",
    "        self.subgrid = gridspec.GridSpecFromSubplotSpec(r+1,r+1, subplot_spec=self.subplot)\n",
    "\n",
    "        self._moveaxes(self.sg.ax_joint, self.subgrid[1:, :-1])\n",
    "        self._moveaxes(self.sg.ax_marg_x, self.subgrid[0, :-1])\n",
    "        self._moveaxes(self.sg.ax_marg_y, self.subgrid[1:, -1])\n",
    "\n",
    "    def _moveaxes(self, ax, gs):\n",
    "        #https://stackoverflow.com/a/46906599/4124317\n",
    "        ax.remove()\n",
    "        ax.figure=self.fig\n",
    "        self.fig.axes.append(ax)\n",
    "        self.fig.add_axes(ax)\n",
    "        ax._subplotspec = gs\n",
    "        ax.set_position(gs.get_position(self.fig))\n",
    "        ax.set_subplotspec(gs)\n",
    "\n",
    "    def _finalize(self):\n",
    "        plt.close(self.sg.fig)\n",
    "        self.fig.canvas.mpl_connect(\"resize_event\", self._resize)\n",
    "        self.fig.canvas.draw()\n",
    "\n",
    "    def _resize(self, evt=None):\n",
    "        self.sg.fig.set_size_inches(self.fig.get_size_inches())\n",
    "\n",
    "# \n",
    "class MathTextSciFormatter(mtick.Formatter):\n",
    "    def __init__(self, fmt=\"%1.0e\"):\n",
    "        self.fmt = fmt\n",
    "    def __call__(self, x, pos=None):\n",
    "        s = self.fmt % x\n",
    "        decimal_point = '.'\n",
    "        positive_sign = '+'\n",
    "        tup = s.split('e')\n",
    "        significand = tup[0].rstrip(decimal_point)\n",
    "        sign = tup[1][0].replace(positive_sign, '')\n",
    "        exponent = tup[1][1:].lstrip('0')\n",
    "        if exponent:\n",
    "            exponent = '10^{%s%s}' % (sign, exponent)\n",
    "        if significand and exponent:\n",
    "            s =  r'%s{\\times}%s' % (significand, exponent)\n",
    "        else:\n",
    "            s =  r'%s%s' % (significand, exponent)\n",
    "        return \"${}$\".format(s)\n",
    "\n",
    "# Search for word metagenome\n",
    "def metagenomeStatus(x):\n",
    "    if 'metagenome' in x:\n",
    "        return \"Yes\" \n",
    "    else: \n",
    "        return \"No\"\n",
    "\n",
    "# Put sample date in as isolation date \n",
    "def updateDate(x,magDateDict):\n",
    "#     c = .isnan()\n",
    "    if np.isnan(x['isolation_date']):\n",
    "        y = magDateDict.get(x['assembly_accession'])\n",
    "        return y\n",
    "    else:\n",
    "        y = x['isolation_date']\n",
    "        return y\n"
   ]
  },
  {
   "cell_type": "markdown",
   "metadata": {},
   "source": [
    "# Import the datasets. \n",
    "\n",
    "We have two data sets: `small` is just 99 genomes and 1,561 phages and should run quickly for development. \n",
    "Max contig specifies the maximimum number of contigs. Set to 100 to ensure acceptable quality genomes."
   ]
  },
  {
   "cell_type": "code",
   "execution_count": 6,
   "metadata": {},
   "outputs": [],
   "source": [
    "# Read the genome phage stats file\n",
    "phagestatsdf = pd.read_csv('../data/phage_stats.20220620.tsv', sep='\\t')\n",
    "\n",
    "# Filter genomes so only those with 100 or fewer are in the analysis\n",
    "maxContig = 100 \n",
    "phagestatsdf = phagestatsdf[phagestatsdf['Genome Contigs'] <= maxContig]\n",
    "\n",
    "# Remove genbank files that do not have protein sequences.\n",
    "phagestatsdf = phagestatsdf[phagestatsdf['Note'] == 'Complete'] # Make sure complete genome\n",
    "phagestatsdf.rename(columns={'GENOMEID':'assembly_accession'},inplace=True)"
   ]
  },
  {
   "cell_type": "code",
   "execution_count": 7,
   "metadata": {},
   "outputs": [
    {
     "name": "stderr",
     "output_type": "stream",
     "text": [
      "/Users/JFisher/anaconda3/lib/python3.8/site-packages/IPython/core/interactiveshell.py:3146: DtypeWarning: Columns (3) have mixed types.Specify dtype option on import or set low_memory=False.\n",
      "  has_raised = await self.run_ast_nodes(code_ast.body, cell_name,\n"
     ]
    }
   ],
   "source": [
    "# Load metadata about the bacterial genome lengths and merge with the dataframe\n",
    "genomelengthsdf = pd.read_csv('../data/genome_lengths.tsv.gz', sep='\\t', compression='gzip')\n",
    "genomelengthsdf.rename(columns={'GENOMEID':'assembly_accession'}, inplace=True)\n",
    "phagestatsdf = phagestatsdf.merge(genomelengthsdf, how='inner', on='assembly_accession')"
   ]
  },
  {
   "cell_type": "code",
   "execution_count": 8,
   "metadata": {},
   "outputs": [
    {
     "name": "stdout",
     "output_type": "stream",
     "text": [
      "there are 2668921 prophage in the dataset\n"
     ]
    }
   ],
   "source": [
    "# Read the phispy contig metadata file (stats per individual phage)\n",
    "allphagedf = pd.read_csv('../data/phage_locations_20220620.tsv', sep='\\t', header=None)\n",
    "allphagedf.rename(columns={0:'assembly_accession',1:'phispy contig',2:'start',3:'stop',4:'length',5:'ngenes',6:'notes'},\n",
    "                  inplace=True)\n",
    "\n",
    "# Filter to those genomes which have >100 contigs\n",
    "allphagedf = allphagedf[allphagedf['assembly_accession'].isin(phagestatsdf['assembly_accession'])]"
   ]
  },
  {
   "cell_type": "markdown",
   "metadata": {},
   "source": [
    "#### Get the total length of phage (\"Kept\") DNA in the genome \n",
    "Some of the phages found by Phispy fail QC. Count up the total number of bp of phage DNA per genome, and substitute a zero back in if all of the potential phages are dropped (for any reason)"
   ]
  },
  {
   "cell_type": "code",
   "execution_count": 9,
   "metadata": {},
   "outputs": [],
   "source": [
    "# group the df to split the kept vs not phage dna\n",
    "groupeddf = allphagedf.copy() # duplicate\n",
    "groupeddf = allphagedf.groupby(['assembly_accession','notes']).sum()  # sum for total bp of phage DNA per category"
   ]
  },
  {
   "cell_type": "code",
   "execution_count": 10,
   "metadata": {},
   "outputs": [],
   "source": [
    "# iterate over the genomes which have \"Kept\" phage \n",
    "allgenomes = list(allphagedf['assembly_accession'].unique())\n",
    "allnotes = ['Kept']\n",
    "iterables = [allgenomes, allnotes]\n",
    "\n",
    "# set up a df to append a length of zero whenever there are no \"kept\" phage\n",
    "allrowindex = pd.MultiIndex.from_product(iterables, names=[\"assembly_accession\", \"notes\"])\n",
    "allrowdf = pd.DataFrame(0, columns=['length'], index=allrowindex)\n",
    "\n",
    "# get indices where \"Kept\" is missing\n",
    "already_present_index = groupeddf.index.intersection(allrowdf.index)\n",
    "missing_index = allrowdf.index.difference(groupeddf.index)\n",
    "\n",
    "# Append total phage length for all genomes in dataset, with 0 whenever there are no kept phage\n",
    "totalphagecontent = groupeddf.append(allrowdf.loc[missing_index, :]).reset_index()\n",
    "totalphagecontent = totalphagecontent[totalphagecontent['notes'] == 'Kept'].reset_index(drop=True)\n",
    "totalphagecontent = totalphagecontent[['assembly_accession','length']]\n",
    "totalphagecontent.rename(columns={'length':'bp prophage'},inplace=True)"
   ]
  },
  {
   "cell_type": "code",
   "execution_count": 12,
   "metadata": {},
   "outputs": [],
   "source": [
    "# Merge the length info back to our summary metadata frame\n",
    "phagemeta = phagestatsdf.merge(totalphagecontent,on='assembly_accession', how='inner')\n",
    "phagemeta['bp prophage'] = phagemeta['bp prophage'].fillna(0)"
   ]
  },
  {
   "cell_type": "code",
   "execution_count": 13,
   "metadata": {},
   "outputs": [],
   "source": [
    "# get normalised prophage counts (bp prophage out of total bp genome length)\n",
    "phagemeta['normalise_by_prok_length'] = phagemeta['Total Length (bp)'].values - phagemeta['bp prophage'].values\n",
    "phagemeta['Kept_normed'] = phagemeta['bp prophage'].values / phagemeta['normalise_by_prok_length'].values \n",
    "phagemeta['Kept_normed_all'] = phagemeta['bp prophage'].values / phagemeta['Total Length (bp)']\n",
    "\n",
    "phagemeta.reset_index(inplace=True, drop=True)\n"
   ]
  },
  {
   "cell_type": "markdown",
   "metadata": {},
   "source": [
    "### Read the metadata\n",
    "\n",
    "The metadata is from PATRIC. The phage data is from us.\n",
    "\n",
    "**NOTE:** Some of the PATRIC data refers to specific chromosomes/fragments in the GenBank file (e.g. plasmid, chromosome), but that may not equate to our predictions, because we have used the whole GenBank file. The PATRIC metadata is redundant for many fields, and so we just keep the first entry for each NCBI Assembly."
   ]
  },
  {
   "cell_type": "code",
   "execution_count": 14,
   "metadata": {},
   "outputs": [],
   "source": [
    "metadf = read_metadata(use_small_data=False)\n",
    "metadf = metadf.drop_duplicates()"
   ]
  },
  {
   "cell_type": "markdown",
   "metadata": {},
   "source": [
    "### Merge the dataframes\n",
    "\n",
    "First, select some columns we want to keep from PATRIC, and then merge the data frames."
   ]
  },
  {
   "cell_type": "code",
   "execution_count": 15,
   "metadata": {},
   "outputs": [],
   "source": [
    "# Accession column\n",
    "acccol = 'assembly_accession'\n",
    "\n",
    "# Metadata which we would like\n",
    "few_interesting_cols = [acccol,  'isolation_country', 'isolation_date']\n",
    "tempdf = metadf[few_interesting_cols]\n",
    "\n",
    "# Merge into the main dataframe\n",
    "phagemeta = pd.merge(tempdf, phagemeta, how='right', left_on=acccol, right_on=acccol)"
   ]
  },
  {
   "cell_type": "markdown",
   "metadata": {},
   "source": [
    "### Read the NCBI Assembly summary, NCBI taxonomy, and merge info"
   ]
  },
  {
   "cell_type": "code",
   "execution_count": 17,
   "metadata": {},
   "outputs": [
    {
     "name": "stderr",
     "output_type": "stream",
     "text": [
      "/Users/JFisher/anaconda3/lib/python3.8/site-packages/IPython/core/interactiveshell.py:3146: DtypeWarning: Columns (21) have mixed types.Specify dtype option on import or set low_memory=False.\n",
      "  has_raised = await self.run_ast_nodes(code_ast.body, cell_name,\n"
     ]
    }
   ],
   "source": [
    "# Load NCBI assembly summary\n",
    "assembly_summary = pd.read_csv('../data/assembly_summary.txt.gz', compression='gzip',sep='\\t',skiprows=1)\n",
    "assembly_summary.rename(columns={'# assembly_accession':'assembly_accession'},inplace=True)\n",
    "\n",
    "# Add metadata which indicates whether the genome is a MAG or not\n",
    "assembly_summary['excluded_from_refseq'] = assembly_summary['excluded_from_refseq'].astype(str)\n",
    "assembly_summary.loc[:,'MAG status'] = assembly_summary['excluded_from_refseq'].apply(lambda x: metagenomeStatus(x))\n",
    "\n",
    "# Get NCBI species IDs and names\n",
    "rankedlineagedf = pd.read_csv('../data/rankedlineage.dmp', sep='\\t', \n",
    "                              names=['taxid', 'strain','ncbispecies','genus','order',\n",
    "                                    'family','class','phylum','superphylum','kingdom'], low_memory=False)\n",
    "rankedlineagedf = rankedlineagedf[rankedlineagedf['kingdom'] == 'Bacteria']\n",
    "assembly_summary = assembly_summary.merge(rankedlineagedf[['taxid','ncbispecies','strain']], on='taxid',how='left')\n",
    "assembly_summary['ncbispecies'].fillna(assembly_summary['strain'], inplace=True)"
   ]
  },
  {
   "cell_type": "markdown",
   "metadata": {},
   "source": [
    "### Get dates that samples were taken for MAG genomes\n",
    "Use the assembly summary to get sample dates for MAGs"
   ]
  },
  {
   "cell_type": "code",
   "execution_count": 18,
   "metadata": {},
   "outputs": [
    {
     "name": "stderr",
     "output_type": "stream",
     "text": [
      "/Users/JFisher/anaconda3/lib/python3.8/site-packages/pandas/core/indexing.py:1596: SettingWithCopyWarning: \n",
      "A value is trying to be set on a copy of a slice from a DataFrame.\n",
      "Try using .loc[row_indexer,col_indexer] = value instead\n",
      "\n",
      "See the caveats in the documentation: https://pandas.pydata.org/pandas-docs/stable/user_guide/indexing.html#returning-a-view-versus-a-copy\n",
      "  self.obj[key] = _infer_fill_value(value)\n",
      "/Users/JFisher/anaconda3/lib/python3.8/site-packages/pandas/core/indexing.py:1745: SettingWithCopyWarning: \n",
      "A value is trying to be set on a copy of a slice from a DataFrame.\n",
      "Try using .loc[row_indexer,col_indexer] = value instead\n",
      "\n",
      "See the caveats in the documentation: https://pandas.pydata.org/pandas-docs/stable/user_guide/indexing.html#returning-a-view-versus-a-copy\n",
      "  isetter(ilocs[0], value)\n"
     ]
    }
   ],
   "source": [
    "# Assign 'isolation' dates for MAG genomes (take it to be sample date)\n",
    "assembly_summaryMag = assembly_summary[assembly_summary['MAG status'] == \"Yes\"]\n",
    "assembly_summaryMag.loc[:,'isolation_date'] = assembly_summaryMag.seq_rel_date.apply(dc.convert_date)\n",
    "\n",
    "# Create lists of genomes which are MAGs, and the dates they were \"isolated\" (sampled)\n",
    "magAccs = list(assembly_summaryMag['assembly_accession'])\n",
    "magDateDict = dict(zip(assembly_summaryMag['assembly_accession'],assembly_summaryMag['isolation_date']))"
   ]
  },
  {
   "cell_type": "markdown",
   "metadata": {},
   "source": [
    "### Read the GTDB taxonomy data\n",
    "\n",
    "Genbank and PATRIC have NCBI taxonomy. Read in the GTDB data from the GTDB site.\n",
    "\n",
    "Note that the GTDB dump (read_gtdb()) does not contain all genomes from Genbank. We used GTDB-tk to get taxonomic assignments of all \"missing\" genomes in our dataset; these are imported in gtdbMissing and then merged."
   ]
  },
  {
   "cell_type": "code",
   "execution_count": 19,
   "metadata": {},
   "outputs": [],
   "source": [
    "# Method to format the GTDB taxonomy from their site\n",
    "s = re.compile('^.__')\n",
    "# u = re.compile('_')\n",
    "def split_taxonomy(x):\n",
    "    p  = x.split(';')\n",
    "    if len(p) != 7:\n",
    "        sys.stderr.write(\"We have {len(p)} fields in {x}, but we expected 7 fields\")\n",
    "    # remove the prepended taxonomic rank name (e.g d__) and any remaining underscores before returning.\n",
    "    # return [u.sub(' ', l) for l in [s.sub('', m) for m in p] ]\n",
    "    return [s.sub('', m) for m in p]"
   ]
  },
  {
   "cell_type": "code",
   "execution_count": 20,
   "metadata": {},
   "outputs": [],
   "source": [
    "# Grab the taxa levels and read data\n",
    "tc = ['domain', 'phylum', 'class', 'order', 'family', 'genus', 'species']\n",
    "gtdb = pd.read_csv('../data/bac120_metadata_r207.tsv.gz', compression='gzip', sep='\\t',\n",
    "                  usecols=['ncbi_genbank_assembly_accession', 'gtdb_taxonomy'])\n",
    "\n",
    "# Format the data frame\n",
    "gtdb = pd.concat(\n",
    "    [gtdb, pd.DataFrame.from_records(gtdb['gtdb_taxonomy'].apply(split_taxonomy), columns=tc)],\n",
    "    axis=1)\n",
    "gtdb.rename(columns={'ncbi_genbank_assembly_accession':'assembly_accession'},inplace=True)\n",
    "\n",
    "# Create new dataframe for taxa metadata\n",
    "taxameta = gtdb[['assembly_accession', 'domain', 'phylum', 'class', 'order', 'family', 'genus', 'species']]\n",
    "\n",
    "# Add GTDB taxa classifications which were not available from the GTDB site \n",
    "gtdbMissing = pd.read_csv('../data/all_missing_taxa_20230228.txt.gz',sep='\\t',compression='gzip',\n",
    "                          names=['assembly_accession', 'domain', 'phylum', 'class', 'order', 'family', 'genus', 'species'],\n",
    "                         index_col=None)\n",
    "taxametafull = taxameta.append(gtdbMissing)\n",
    "\n",
    "# Clean up the dataframe, remove duplicates, ensure there aren't refseq/genbank accession mismatches\n",
    "taxametafull.drop_duplicates(subset=['assembly_accession'], keep='first', inplace=True)\n",
    "taxametafull['assembly_accession'] = taxametafull['assembly_accession'].str.replace('GCF', 'GCA', regex=True)\n",
    "taxametafull.reset_index(inplace=True, drop=True)\n",
    "\n",
    "# merge on the accession ID (not version number) of the genome\n",
    "phagemeta['assembly_accession'] = phagemeta['assembly_accession'].str.replace('GCF','GCA',regex=False)\n",
    "phagemeta['assembly_accession_abbrv'] = phagemeta['assembly_accession'].str.split('.').str[0]\n",
    "taxametafull['assembly_accession_abbrv'] = taxametafull['assembly_accession'].str.split('.').str[0]\n",
    "\n",
    "# Merge the taxa data frames with the phage/genome dataframe clean up\n",
    "taxameta = pd.merge(phagemeta,taxametafull, on='assembly_accession_abbrv', how='inner')\n",
    "taxameta.rename(columns={'assembly_accession_x':'assembly_accession'}, inplace=True)\n",
    "taxameta.drop_duplicates(subset=['assembly_accession_abbrv'], keep='first', inplace=True)"
   ]
  },
  {
   "cell_type": "markdown",
   "metadata": {},
   "source": [
    "### Print some statistics on the analysis dataframe"
   ]
  },
  {
   "cell_type": "code",
   "execution_count": 332,
   "metadata": {},
   "outputs": [
    {
     "name": "stdout",
     "output_type": "stream",
     "text": [
      "524 genomes were in the PhiSpy dataset where we don't have taxa information\n",
      "There are a total of 574592 genomes in the study\n",
      "There are a total of 26200 gtdb representative genomes in the study\n",
      "There are 540750 lysogens in the study\n",
      "there are 2668851 high quality prophage in the study\n",
      "there are 67267 high quality prophage in the gtdb representative set\n"
     ]
    }
   ],
   "source": [
    "print(phagemeta.shape[0] - taxameta.shape[0],'genomes were in the PhiSpy dataset where we don\\'t have taxa information')\n",
    "print('There are a total of', taxameta.shape[0], 'genomes in the study')\n",
    "print('There are a total of', taxameta[taxameta['assembly_accession'].isin(newickList)].shape[0], 'gtdb representative genomes in the study')\n",
    "print('There are', taxameta[taxameta['Kept'] > 0 ].shape[0], 'lysogens in the study')\n",
    "print('there are',allphagedf[(allphagedf['notes']== 'Kept') & allphagedf['assembly_accession'].isin(contigListTh)].shape[0],'high quality prophage in the study')\n",
    "print('there are',allphagedf[(allphagedf['notes']== 'Kept') & allphagedf['assembly_accession'].isin(newickList)].shape[0],'high quality prophage in the gtdb representative set')"
   ]
  },
  {
   "cell_type": "code",
   "execution_count": 22,
   "metadata": {},
   "outputs": [
    {
     "name": "stdout",
     "output_type": "stream",
     "text": [
      "% of genomes with at least one prophage is 0.941168075300408\n"
     ]
    }
   ],
   "source": [
    "print('% of genomes with at least one prophage is',taxameta[taxameta['Kept'] > 0 ].shape[0]/taxameta.shape[0])"
   ]
  },
  {
   "cell_type": "markdown",
   "metadata": {},
   "source": [
    "## Fig 1: Binned genome size, (normalised) number of prophages "
   ]
  },
  {
   "cell_type": "markdown",
   "metadata": {},
   "source": [
    "### Get most frequently occurring species counts"
   ]
  },
  {
   "cell_type": "code",
   "execution_count": 24,
   "metadata": {},
   "outputs": [
    {
     "name": "stdout",
     "output_type": "stream",
     "text": [
      "Top 10 species in our database\n",
      "                    species  counts  Proportion\n",
      "0       Salmonella enterica  251237       43.73\n",
      "1    Campylobacter_D jejuni   41605        7.24\n",
      "2          Escherichia coli   22390        3.90\n",
      "3  Listeria monocytogenes_B   20496        3.57\n",
      "4  Streptococcus pneumoniae   20414        3.55\n",
      "5    Listeria monocytogenes   20358        3.54\n",
      "6     Staphylococcus aureus   19926        3.47\n",
      "7      Campylobacter_D coli   15182        2.64\n",
      "8     Klebsiella pneumoniae   15037        2.62\n",
      "9  Clostridioides difficile    8330        1.45\n"
     ]
    }
   ],
   "source": [
    "# Dataframe with species counts \n",
    "dfCounts = pd.DataFrame(taxameta['species'].value_counts().head(20)).reset_index()\n",
    "dfCounts.rename(columns={'species':'counts','index':'species'},inplace=True)\n",
    "dfCounts['Proportion'] = (100*dfCounts['counts'] / taxameta.shape[0]).round(decimals=2)\n",
    "print('Top 10 species in our database')\n",
    "print(dfCounts.head(10))\n",
    "# dfCounts.to_csv('./figures/top_20spp.txt',sep='\\t',index=None)"
   ]
  },
  {
   "cell_type": "code",
   "execution_count": 25,
   "metadata": {},
   "outputs": [
    {
     "name": "stdout",
     "output_type": "stream",
     "text": [
      "the top % of genera make up the following proportions in the database:\n",
      "Escherichia 0.04753094584998399\n",
      "Salmonella 0.44304606023475684\n",
      "Campylobacter_D 0.10062796752948384\n"
     ]
    }
   ],
   "source": [
    "print('the top % of genera make up the following proportions in the database:')\n",
    "for i in ['Escherichia', 'Salmonella','Campylobacter_D']:\n",
    "    print(i,taxameta[taxameta['genus'] == i].shape[0]/taxameta.shape[0])"
   ]
  },
  {
   "cell_type": "markdown",
   "metadata": {},
   "source": [
    "#### The average size of e coli for ATP calculations\n",
    "Pull all E coli genomes and get the mean of the total genome length"
   ]
  },
  {
   "cell_type": "code",
   "execution_count": 29,
   "metadata": {},
   "outputs": [
    {
     "name": "stdout",
     "output_type": "stream",
     "text": [
      "the average size of the e coli genome is 5.052862773202323 Mb\n"
     ]
    }
   ],
   "source": [
    "print('the average size of the e coli genome is',\n",
    "      taxameta[taxameta['species'] == 'Escherichia coli']['Total Length (bp)'].mean()/1E6, 'Mb')"
   ]
  },
  {
   "cell_type": "markdown",
   "metadata": {},
   "source": [
    "## Create a balanced taxa sample from the ~62k dereplicated GTDB genomes\n",
    "There are ~62k unique species names in the GTDB tree. Let's check how many are in our <100 contig genbank data.\n",
    "\n",
    "Import the data, pull the GTDB-selected accessions and take those as first priority, otherwise use the species name to find a genome which passed the 100 contig threshold criterion"
   ]
  },
  {
   "cell_type": "code",
   "execution_count": 30,
   "metadata": {},
   "outputs": [],
   "source": [
    "# get the genomes on the 'leaves' of the GTDB taxa tree\n",
    "tree = Phylo.read(\"../data/bac120_r207.tree\", \"newick\") ## nb v. 207\n",
    "termList = []\n",
    "for leaf in tree.get_terminals(): \n",
    "    termList += [leaf.name]\n",
    "\n",
    "# Get the species names for those genomes, create a new dataframe with accession and taxa name\n",
    "balancedTax = pd.DataFrame()\n",
    "balancedTax['assembly_accession'] = termList\n",
    "balancedTax['assembly_accession'] = balancedTax['assembly_accession'].str[3:]\n",
    "\n",
    "# note that not every genome from the GTDB set lines up with our sample, this is a first subset of species\n",
    "speciesDict = dict(zip(taxameta['assembly_accession'],taxameta['species']))\n",
    "balancedTax['species'] = balancedTax['assembly_accession'].map(speciesDict)"
   ]
  },
  {
   "cell_type": "markdown",
   "metadata": {},
   "source": [
    "Rerunning the following cell will create a new random subset of the data."
   ]
  },
  {
   "cell_type": "code",
   "execution_count": 335,
   "metadata": {},
   "outputs": [
    {
     "name": "stdout",
     "output_type": "stream",
     "text": [
      "We have 26200 species in our <100 contig genbank data\n"
     ]
    }
   ],
   "source": [
    "# Shuffle the data\n",
    "tmp = taxameta.sample(frac=1).reset_index(drop=True)\n",
    "\n",
    "df1 = pd.DataFrame()\n",
    "df1 = df1.append(tmp[tmp[\"Kept\"] > 0])\n",
    "df1 = df1.append(tmp[tmp[\"Kept\"] == 0])\n",
    "\n",
    "tmp = df1.drop_duplicates(subset='species',keep='first')\n",
    "\n",
    "# Create a list of dereplicated genomes with the correct number of sampled genomes\n",
    "newickList = list(tmp['assembly_accession'])\n",
    "newickList = [item for item in newickList if not(pd.isnull(item)) == True]\n",
    "\n",
    "print('We have',len(newickList),'species in our <100 contig genbank data')"
   ]
  },
  {
   "cell_type": "markdown",
   "metadata": {},
   "source": [
    "### Plots for figure 1\n",
    "\n",
    "We exclude genomes with 0 prophages for the visualisation as it simply creates a horizontal line along the bottom of the plot.\n",
    "\n",
    "Change \"minPhages\" to change this."
   ]
  },
  {
   "cell_type": "code",
   "execution_count": 32,
   "metadata": {},
   "outputs": [],
   "source": [
    "minPhages = 1"
   ]
  },
  {
   "cell_type": "markdown",
   "metadata": {},
   "source": [
    "#### Generate Fig 1a\n",
    "Create the plot data and formatting for 1c"
   ]
  },
  {
   "cell_type": "code",
   "execution_count": 209,
   "metadata": {},
   "outputs": [
    {
     "data": {
      "image/png": "[encoded data removed]",
      "text/plain": [
       "<Figure size 144x144 with 3 Axes>"
      ]
     },
     "metadata": {
      "needs_background": "light"
     },
     "output_type": "display_data"
    }
   ],
   "source": [
    "sizePhage = phagemeta.copy() # Avoid editing the main dataframe\n",
    "\n",
    "# Create plot handle and plot data\n",
    "gt2 = sns.JointGrid(x='normalise_by_prok_length', y='bp prophage', \n",
    "                   data=sizePhage[(sizePhage['Kept'] >= minPhages) & \n",
    "                                  (sizePhage['normalise_by_prok_length']  < 1E7) & \n",
    "                                  (sizePhage['bp prophage'] < 5E6)],\n",
    "                  xlim=(0,1e7),ylim=(0,5E5), marginal_ticks=False,ratio=3, height=2) # counts normed by genome length\n",
    "\n",
    "# Plot the 2D histogram\n",
    "gt2.plot_joint(\n",
    "    sns.histplot,color=colourDict.get('indigo'),pmax=.05)\n",
    "gt2.plot_marginals(sns.kdeplot, linewidth=0,  fill=True, bw_adjust=2,color=colourDict.get('indigo'))\n",
    "\n",
    "\n",
    "# Format axes\n",
    "gt2.ax_joint.set_xlabel('bacteria (bp)')\n",
    "gt2.ax_joint.set_ylabel('prophage (bp)')\n",
    "gt2.ax_joint.set_xticks([0,5E6,1E7])\n",
    "gt2.ax_joint.yaxis.set_major_formatter(MathTextSciFormatter(\"%1.0e\")), gt2.ax_joint.xaxis.set_major_formatter(MathTextSciFormatter(\"%1.0e\"))\n",
    "plt.setp(gt2.ax_marg_y.get_xaxis().get_offset_text(), visible=False)\n",
    "plt.setp(gt2.ax_marg_x.get_yaxis().get_offset_text(), visible=False)\n",
    "\n",
    "# Test plot\n",
    "\n",
    "plt.savefig('../results/figures/Fig1a.png',dpi=600)\n",
    "\n",
    "plt.show()"
   ]
  },
  {
   "cell_type": "markdown",
   "metadata": {},
   "source": [
    "#### Calculate slope from Fig 1a\n",
    "Use scipy stats for a linear regression on the data in fig 1a"
   ]
  },
  {
   "cell_type": "code",
   "execution_count": 205,
   "metadata": {},
   "outputs": [
    {
     "name": "stdout",
     "output_type": "stream",
     "text": [
      "In Fig 1a the slope is: 0.029463031950391995 R2: 0.2627272195401632 p-value: 0.0\n"
     ]
    }
   ],
   "source": [
    "t1 = sizePhage[(sizePhage['Kept'] >= minPhages) & \n",
    "                                  (sizePhage['normalise_by_prok_length']  < 1E7) & \n",
    "                                  (sizePhage['bp prophage'] < 5E6)]\n",
    "slope, intercept, r_value, p_value, std_err = scp.stats.linregress(\n",
    "    x=t1['normalise_by_prok_length'].astype(float),\n",
    "               y=t1['bp prophage'].astype(float))\n",
    "print('In Fig 1a the slope is:', slope, 'R2:',r_value**2, 'p-value:',p_value)"
   ]
  },
  {
   "cell_type": "code",
   "execution_count": 208,
   "metadata": {},
   "outputs": [
    {
     "data": {
      "image/png": "[encoded data removed]",
      "text/plain": [
       "<Figure size 144x144 with 3 Axes>"
      ]
     },
     "metadata": {
      "needs_background": "light"
     },
     "output_type": "display_data"
    }
   ],
   "source": [
    "sizePhage = taxameta.copy()\n",
    "# Subset the data\n",
    "sizePhage = sizePhage[sizePhage['assembly_accession'].isin(newickList)]\n",
    "\n",
    "# Create plot handle and plot data\n",
    "gt = sns.JointGrid(x='normalise_by_prok_length', y='bp prophage', \n",
    "                   data=sizePhage[(sizePhage['Kept'] >= minPhages) & \n",
    "                                  (sizePhage['normalise_by_prok_length']  < 1E7) & \n",
    "                                  (sizePhage['bp prophage'] < 5E6)],\n",
    "                  xlim=(0,1e7),ylim=(0,5E5), marginal_ticks=False,ratio=3, height=2) # counts normed by genome length\n",
    "\n",
    "# Plot 2d histogram\n",
    "gt.plot_joint(\n",
    "    sns.histplot,color=colourDict.get('indigo'),pmax=.3,bins=200)\n",
    "gt.plot_marginals(sns.kdeplot, linewidth=0,  fill=True, bw_adjust=2,color=colourDict.get('indigo'))\n",
    "\n",
    "# Format axes\n",
    "gt.ax_joint.set_xlabel('bacteria (bp)')\n",
    "gt.ax_joint.set_ylabel('prophage (bp)')\n",
    "gt.ax_joint.set_xticks([0,5E6,1E7])\n",
    "gt.ax_joint.yaxis.set_major_formatter(MathTextSciFormatter(\"%1.0e\")), gt.ax_joint.xaxis.set_major_formatter(MathTextSciFormatter(\"%1.0e\"))\n",
    "\n",
    "plt.setp(gt.ax_marg_y.get_xaxis().get_offset_text(), visible=False)\n",
    "plt.setp(gt.ax_marg_x.get_yaxis().get_offset_text(), visible=False)\n",
    "# plt.show\n",
    "# Test plot\n",
    "\n",
    "plt.savefig('../results/figures/Fig1c.png',dpi=600)\n",
    "\n",
    "plt.show()"
   ]
  },
  {
   "cell_type": "markdown",
   "metadata": {},
   "source": [
    "Do some small calculations needed for Fig 1b"
   ]
  },
  {
   "cell_type": "code",
   "execution_count": 40,
   "metadata": {},
   "outputs": [],
   "source": [
    "# Create some bins to do the size counts for Fig 1b\n",
    "sizePhage = phagemeta.copy()\n",
    "\n",
    "minval=0\n",
    "bins = list(np.arange(minval,1.2E7,1.4E6))\n",
    "sizePhage['bin'] = pd.cut(sizePhage['normalise_by_prok_length'], bins)\n",
    "sizePhage[\"bin_centres\"] = sizePhage[\"bin\"].apply(lambda x: x.mid).astype(np.float64)\n",
    "\n",
    "# choose phylogenetic level for Fig 1b, do counts based on mean sizes for that order/class etc\n",
    "level = 'class'\n",
    "genomeSize = taxameta.groupby(level).mean()[\"normalise_by_prok_length\"].values\n",
    "numberGenomes = taxameta.groupby(level).size().values"
   ]
  },
  {
   "cell_type": "markdown",
   "metadata": {},
   "source": [
    "#### Plot Figure 1"
   ]
  },
  {
   "cell_type": "code",
   "execution_count": 211,
   "metadata": {},
   "outputs": [
    {
     "data": {
      "image/png": "[encoded data removed]",
      "text/plain": [
       "<Figure size 408.468x126.224 with 7 Axes>"
      ]
     },
     "metadata": {
      "needs_background": "light"
     },
     "output_type": "display_data"
    }
   ],
   "source": [
    "fig = plt.figure(figsize=(fig_width,0.5*fig_height))\n",
    "\n",
    "# Set up gridspec\n",
    "outer_gs = gridspec.GridSpec(nrows=1, ncols=1, figure=fig,  wspace=0.4,  hspace=0.5)\n",
    "gs0 = gridspec.GridSpecFromSubplotSpec(nrows=8, ncols=22, subplot_spec=outer_gs[0], wspace=50, hspace=0)\n",
    "\n",
    "## Comment the two lines below if required. The SeabornFig2Grid method places 1a and 1c generated above\n",
    "## onto the gridspec panel. Note that there are some package incompatibilies. Figs 1a and 1c do not \n",
    "## export properly to formats outside of PDF however PDF creates white lines on those subplots.\n",
    "SeabornFig2Grid(gt2, fig, gs0[0:6,0:6]) # Fig 1a\n",
    "SeabornFig2Grid(gt, fig, gs0[0:6,16:22]) # Fig 1c\n",
    "\n",
    "# Plot Fig 1b\n",
    "f3_ax4 = fig.add_subplot(gs0[2:7,8:13])\n",
    "sns.scatterplot(x=genomeSize,y=numberGenomes,s=6,alpha=0.7, linewidth=0, ax=f3_ax4,\n",
    "                   color=colourDict.get('teal'))\n",
    "\n",
    "# Do some axes formatting\n",
    "f3_ax4.xaxis.offsetText.set_visible(False)\n",
    "f3_ax4.text(0.93,  -0.15, 'x$10^6$', transform=f3_ax4.transAxes)\n",
    "f3_ax4.set(yscale='log',yticks=[1,100,10000],xticks=[0,3E6,6E6,9E6],ylabel='\\# genomes isolated',\n",
    "           xlabel='bacteria (bp)')\n",
    "\n",
    "# Add subfigure labels\n",
    "f3_ax4.annotate('a',(0.03,0.85),xycoords='figure fraction',weight='bold')\n",
    "f3_ax4.annotate('b',(0.375,0.85),xycoords='figure fraction',weight='bold')\n",
    "f3_ax4.annotate('c',(0.78,0.85),xycoords='figure fraction',fontweight='bold')\n",
    "\n",
    "\n",
    "plt.show()\n",
    "\n",
    "# fig.savefig('../results/figures/panel1.svg', dpi=600)\n",
    "# fig.savefig('../results/figures/panel1.pdf')"
   ]
  },
  {
   "cell_type": "markdown",
   "metadata": {},
   "source": [
    "#### Get locations of KDE peaks in Fig 1c"
   ]
  },
  {
   "cell_type": "code",
   "execution_count": 62,
   "metadata": {},
   "outputs": [
    {
     "name": "stdout",
     "output_type": "stream",
     "text": [
      "There are 26328 genomes in Fig 1c\n"
     ]
    }
   ],
   "source": [
    "df = sizePhage[(sizePhage['Kept'] >= 0)&\n",
    "                           (sizePhage['normalise_by_prok_length']  < 1E8)&\n",
    "                           (sizePhage['bp prophage'] < 10E6)  &\n",
    "                           (sizePhage['assembly_accession'].isin(newickList))]\n",
    "\n",
    "print('There are',df.shape[0],'genomes in Fig 1c')"
   ]
  },
  {
   "cell_type": "code",
   "execution_count": 213,
   "metadata": {},
   "outputs": [
    {
     "data": {
      "image/png": "[encoded data removed]",
      "text/plain": [
       "<Figure size 144x144 with 1 Axes>"
      ]
     },
     "metadata": {
      "needs_background": "light"
     },
     "output_type": "display_data"
    },
    {
     "name": "stdout",
     "output_type": "stream",
     "text": [
      "The peak for the bacterial dna total (bp) is at 2.27e+06\n"
     ]
    }
   ],
   "source": [
    "fig,ax1=plt.subplots(1,1,figsize=(2,2))\n",
    "sns.kdeplot(df['normalise_by_prok_length'],ax=ax1, bw_adjust=2,cut=0.001)\n",
    "plt.show()\n",
    "x1 = ax1.lines[0].get_xdata() # Get the x data of the distribution\n",
    "y1 = ax1.lines[0].get_ydata() # Get the y data of the distribution\n",
    "maxid1 = np.argmax(y1) \n",
    "print('The peak for the bacterial dna total (bp) is at','{:.2e}'.format(x1[maxid1]))"
   ]
  },
  {
   "cell_type": "code",
   "execution_count": 65,
   "metadata": {},
   "outputs": [
    {
     "data": {
      "image/png": "[encoded data removed]",
      "text/plain": [
       "<Figure size 144x144 with 1 Axes>"
      ]
     },
     "metadata": {
      "needs_background": "light"
     },
     "output_type": "display_data"
    },
    {
     "name": "stdout",
     "output_type": "stream",
     "text": [
      "The peak for the genome's content (bp counts) of prophage is 1.99e+04\n"
     ]
    }
   ],
   "source": [
    "fig,ax2=plt.subplots(1,1,figsize=(2,2))\n",
    "b = sns.histplot(df[df['bp prophage']>1]['bp prophage'])\n",
    "plt.show()\n",
    "\n",
    "x2 = [a.get_x() for a in b.patches] # Get the x data of the distribution\n",
    "y2 = [a.get_height() for a in b.patches]  # Get the y data of the distribution\n",
    "maxid2 = np.argmax(y2) # get peak idx\n",
    "print('The peak for the genome\\'s content (bp counts) of prophage is','{:.2e}'.format(x2[maxid2]))"
   ]
  },
  {
   "cell_type": "markdown",
   "metadata": {},
   "source": [
    "## Fig 2: Phage size distributions"
   ]
  },
  {
   "cell_type": "markdown",
   "metadata": {},
   "source": [
    "Create length dataframe to avoid editing the imported df.\n",
    "\n",
    "Get number of genomes in each phyla.\n"
   ]
  },
  {
   "cell_type": "code",
   "execution_count": 66,
   "metadata": {},
   "outputs": [],
   "source": [
    "phageLengthDf = allphagedf.copy()\n",
    "phageLengthDf.rename(columns={'length':'bp'}, inplace=True)\n",
    "\n",
    "phylumCounts = taxameta.groupby('phylum').count().reset_index()\n",
    "phyCountDict = dict(zip(phylumCounts['phylum'],phylumCounts['assembly_accession']))"
   ]
  },
  {
   "cell_type": "markdown",
   "metadata": {},
   "source": [
    "#### Get some size statistics\n",
    "\n",
    "Grab the accessions of the genomes passing 100 contig thresholds"
   ]
  },
  {
   "cell_type": "code",
   "execution_count": 214,
   "metadata": {},
   "outputs": [
    {
     "name": "stdout",
     "output_type": "stream",
     "text": [
      "Number of prophages in dataset 2668851 , median size is 23137.0\n",
      "Number >20kb is (1558270, 7)\n",
      "Median size in representative gtdb set is 25047.0\n"
     ]
    }
   ],
   "source": [
    "contigListTh = list(taxameta['assembly_accession'])\n",
    "\n",
    "prophageSizePlot = phageLengthDf[phageLengthDf['notes'] == 'Kept']\n",
    "prophageSizePlot = prophageSizePlot[prophageSizePlot['assembly_accession'].isin(contigListTh)]\n",
    "\n",
    "print('Number of prophages in dataset',prophageSizePlot.shape[0],', median size is',prophageSizePlot['bp'].median())\n",
    "print('Number >=20kb is',prophageSizePlot[prophageSizePlot['bp'] >= 20000].shape)\n",
    "\n",
    "prophageSizePlotGTDB = prophageSizePlot[prophageSizePlot['assembly_accession'].isin(newickList)]\n",
    "\n",
    "\n",
    "print('Median size in representative gtdb set is',prophageSizePlotGTDB['bp'].median())"
   ]
  },
  {
   "cell_type": "markdown",
   "metadata": {},
   "source": [
    "#### Look at the multimodality of individual species' phage size distributions \n",
    "Change nspecies to see the top n most abundant species in the database."
   ]
  },
  {
   "cell_type": "code",
   "execution_count": 68,
   "metadata": {},
   "outputs": [
    {
     "data": {
      "image/png": "[encoded data removed]",
      "text/plain": [
       "<Figure size 245.081x126.224 with 2 Axes>"
      ]
     },
     "metadata": {
      "needs_background": "light"
     },
     "output_type": "display_data"
    },
    {
     "data": {
      "image/png": "[encoded data removed]",
      "text/plain": [
       "<Figure size 245.081x126.224 with 2 Axes>"
      ]
     },
     "metadata": {
      "needs_background": "light"
     },
     "output_type": "display_data"
    },
    {
     "data": {
      "image/png": "[encoded data removed]",
      "text/plain": [
       "<Figure size 245.081x126.224 with 2 Axes>"
      ]
     },
     "metadata": {
      "needs_background": "light"
     },
     "output_type": "display_data"
    },
    {
     "data": {
      "image/png": "[encoded data removed]",
      "text/plain": [
       "<Figure size 245.081x126.224 with 2 Axes>"
      ]
     },
     "metadata": {
      "needs_background": "light"
     },
     "output_type": "display_data"
    },
    {
     "data": {
      "image/png": "[encoded data removed]",
      "text/plain": [
       "<Figure size 245.081x126.224 with 2 Axes>"
      ]
     },
     "metadata": {
      "needs_background": "light"
     },
     "output_type": "display_data"
    }
   ],
   "source": [
    "nspecies = 5\n",
    "\n",
    "topSpecies = list(taxameta['species'].value_counts().head(nspecies).index)\n",
    "for i in topSpecies:\n",
    "    speciesName = i #'Staphylococcus aureus' # 'Salmonella enterica' # 'Escherichia coli'  # 'Mycobacterium tuberculosis' #  \n",
    "    maxcont = maxContig\n",
    "\n",
    "    prophageSizePlot2 = phageLengthDf[phageLengthDf['notes'] == 'Kept']\n",
    "\n",
    "    prophageSizePlot2 = prophageSizePlot2[prophageSizePlot2['assembly_accession'].isin(\n",
    "        list(taxameta[taxameta['species'] == speciesName]['assembly_accession']))]\n",
    "    # prophageSizePlot2 = prophageSizePlot2[prophageSizePlot2['assembly_accession'].isin(list(phagemeta['assembly_accession']))]\n",
    "    nval = prophageSizePlot2.shape[0]\n",
    "    ngenomes = len(list(taxameta[taxameta['species'] == speciesName]['assembly_accession']))\n",
    "\n",
    "    fig,ax = plt.subplots(1,2,figsize=(0.6*fig_width,0.5*fig_height))\n",
    "\n",
    "    sns.histplot(x='bp', data=prophageSizePlot2, kde=True,ax=ax[0], \n",
    "                lw=0,alpha=0.2,color=colourDict.get('teal'))\n",
    "    sns.ecdfplot(x='bp', data=prophageSizePlot2, ax=ax[1],color=colourDict.get('teal'))\n",
    "\n",
    "    ax[0].set(xlim=[0,8E4])\n",
    "    ax[1].set(xlim=[0,8E4])\n",
    "\n",
    "    fig.suptitle('Species: '+speciesName+', max contigs: ' + str(maxContig) + r', genome $n=$'\n",
    "                 + str(ngenomes)+ r', prophage $n=$' + str(nval))\n",
    "\n",
    "    fig.tight_layout()\n",
    "    plt.show()\n",
    "\n",
    "#     fig.savefig('./figures/phagesizedist/Sp_'+speciesName+'_Cont_' + str(maxcont) + '_GenNum_'\n",
    "#              + str(ngenomes)+ '_PhNum_' + str(nval), dpi=200)"
   ]
  },
  {
   "cell_type": "markdown",
   "metadata": {},
   "source": [
    "## Generate Fig 2 panel"
   ]
  },
  {
   "cell_type": "markdown",
   "metadata": {},
   "source": [
    "#### Generate dataframe for Fig 2a"
   ]
  },
  {
   "cell_type": "code",
   "execution_count": 220,
   "metadata": {},
   "outputs": [],
   "source": [
    "# Minimum genome size\n",
    "minval = 0\n",
    "# Create bins\n",
    "bins = list(np.arange(minval,1E7,1E6)) \n",
    "\n",
    "# Editable dataframe\n",
    "sizePhage = phagemeta.copy()\n",
    "sizePhage = sizePhage[sizePhage['normalise_by_prok_length'] > 0]\n",
    "# Group by bins\n",
    "sizePhage['bin'] = pd.cut(sizePhage['normalise_by_prok_length'], bins)\n",
    "sizePhage[\"bin_centres\"] = sizePhage[\"bin\"].apply(lambda x: x.mid).astype(np.float64)\n",
    "# choose taxonomic level\n",
    "level = 'class'\n",
    "\n",
    "# Exclude genomes with zero kept prophages\n",
    "balancedSizePhage = sizePhage[sizePhage['assembly_accession'].isin(newickList)]\n",
    "balancedSizePhage = balancedSizePhage[balancedSizePhage['Kept'] > 0]\n",
    "bincentres = np.array(np.sort(sizePhage[\"bin_centres\"].unique())[:-1] / 1E6).flatten()"
   ]
  },
  {
   "cell_type": "markdown",
   "metadata": {},
   "source": [
    "#### Generate dataframe for Fig 2b\n",
    "Use the representative gtdb genome set and the prophages which passed QC"
   ]
  },
  {
   "cell_type": "code",
   "execution_count": 221,
   "metadata": {},
   "outputs": [],
   "source": [
    "prophageSizePlot = phageLengthDf[phageLengthDf['notes'] == 'Kept']\n",
    "prophageSizePlot = prophageSizePlot[prophageSizePlot['assembly_accession'].isin(newickList)]"
   ]
  },
  {
   "cell_type": "markdown",
   "metadata": {},
   "source": [
    "#### Generate dataframe for Fig 2c-2d\n",
    "\n",
    "Use all data on genomes passing QC for the top 5 most abundant species in the database"
   ]
  },
  {
   "cell_type": "code",
   "execution_count": 308,
   "metadata": {},
   "outputs": [],
   "source": [
    "# get top 5 most abundant species\n",
    "topSpecies = list(taxameta['species'].value_counts().head(5).index)\n",
    "\n",
    "# Filter on QC, kept prophages and genomes passing QC\n",
    "prophageSizePlot2 = phageLengthDf[phageLengthDf['notes'] == 'Kept']\n",
    "prophageSizePlot2 = prophageSizePlot2[prophageSizePlot2['assembly_accession'].isin(\n",
    "    list(taxameta[taxameta['species'] == topSpecies[0]]['assembly_accession']))]\n",
    "prophageSizePlot2 = prophageSizePlot2[prophageSizePlot2['assembly_accession'].isin(contigListTh)]"
   ]
  },
  {
   "cell_type": "markdown",
   "metadata": {},
   "source": [
    "### Plot"
   ]
  },
  {
   "cell_type": "code",
   "execution_count": 225,
   "metadata": {},
   "outputs": [
    {
     "data": {
      "image/png": "[encoded data removed]",
      "text/plain": [
       "<Figure size 408.468x252.447 with 5 Axes>"
      ]
     },
     "metadata": {
      "needs_background": "light"
     },
     "output_type": "display_data"
    }
   ],
   "source": [
    "fig = plt.figure(figsize=(fig_width,fig_height))\n",
    "\n",
    "# use gridspec due to the uneven subplot sizes\n",
    "outer_gs = gridspec.GridSpec(nrows=2, ncols=1, figure=fig,  wspace=0.4,  hspace=0.5)\n",
    "gs0 = gridspec.GridSpecFromSubplotSpec(nrows=1, ncols=15, subplot_spec=outer_gs[0], wspace=0, hspace=0)\n",
    "gs1 = gridspec.GridSpecFromSubplotSpec(nrows=1, ncols=15, subplot_spec=outer_gs[1], wspace=0, hspace=0)\n",
    "\n",
    "# Set up the axes on the  grid\n",
    "ax0 = fig.add_subplot(gs0[0:,0:6])\n",
    "ax1 = fig.add_subplot(gs0[0:,11:15])\n",
    "ax4 = fig.add_subplot(gs1[0:,0:8])\n",
    "ax2 = fig.add_subplot(gs1[0:,11:15])\n",
    "\n",
    "# Put two seaborn point plots on the same axes\n",
    "# first the total number of phages in a genome against genome size (2a)\n",
    "with plt.rc_context({'lines.linewidth': 0.8}):\n",
    "        s1 = sns.pointplot(x='bin_centres', y='Kept', data=balancedSizePhage,nboot=5000, ax = ax0, \n",
    "                  color=colourDict.get('teal'), alpha=0.6, s=8, \n",
    "                 capsize=.3, errwidth=0.6) \n",
    "\n",
    "ax3 = ax0.twinx()\n",
    "with plt.rc_context({'lines.linewidth': 0.8}):\n",
    "    s2 = sns.pointplot(x='bin_centres', y='Kept_normed', data=balancedSizePhage, ax=ax3, n_boot=5000,\n",
    "                  color=colourDict.get('wine'), alpha=0.6, s=8, linestyles=':',\n",
    "                 capsize=.3, errwidth=0.6)\n",
    "\n",
    "# Do some formatting\n",
    "ax3.xaxis.offsetText.set_visible(False) # scientific formatting is in the wrong spot, remove it\n",
    "ax0.text(0.96,  -0.14,'x$10^6$', transform=ax0.transAxes)  # create new offset text in the right place\n",
    "labels = ax0.get_xticklabels()\n",
    "ax0.set(ylabel='Number of prophages',xlabel='bacteria (bp)',xticks =[0.75,2.75,4.75,6.75],xticklabels=[2,4,6,8],\n",
    "      yticks=[0,5,10])\n",
    "ax3.set(ylabel='prophage density',ylim=[0,0.04]) #\n",
    "# ax.text(0.96,  -0.14,'x$10^6$', transform=ax0.transAxes)\n",
    "# ax0.set(ylabel='\\# prophages (norm)',ylim=[0,0.04])\n",
    "\n",
    "# Set up the legend\n",
    "L = ax0.legend(s1.lines[:1]+s2.lines[:1], ['A','G'],handlelength=1.5,loc='lower right',bbox_to_anchor=(1.0, -0.06),frameon=False)\n",
    "L.get_texts()[0].set_text('\\# prophages')\n",
    "L.get_texts()[1].set_text('Density')\n",
    "\n",
    "\n",
    "# Plot the histogram and KDE in 2b\n",
    "sns.histplot(x='bp', data=prophageSizePlot, ax=ax1, kde=True, \n",
    "             kde_kws={'bw_adjust':1.3}, linewidth=0,color=colourDict.get('indigo'))\n",
    "\n",
    "# Format axes\n",
    "ax1.set(xlim=[1E2,1E5], xlabel='prophage (bp)')\n",
    "ax1.yaxis.set_major_formatter(MathTextSciFormatter(\"%1.1e\"))\n",
    "ax1.set(xlim=[1E2,1E5], xlabel='prophage (bp)',xticks=[0,40000,80000],xticklabels=['0','4','8'],\n",
    "           ylabel='Count')\n",
    "ax1.text(0.9,  -0.15, 'x$10^4$', transform=ax1.transAxes)\n",
    "\n",
    "ax1.lines[0].set_color(colourDict.get('purple'))\n",
    "\n",
    "\n",
    "# Plot the salmonella KDE for the prophage distributions\n",
    "sns.kdeplot(x='bp', data=prophageSizePlot2, ax=ax2, linewidth=2,color=colourDict.get('wine'))\n",
    "ax2.set(xlim=[1E2,1E5], xlabel='prophage (bp)')\n",
    "ax2.yaxis.set_major_formatter(MathTextSciFormatter(\"%1.1e\"))\n",
    "ax2.set(xlim=[1E2,1E5], xlabel='prophage (bp)',xticks=[0,40000,80000],xticklabels=['0','4','8'],\n",
    "           ylabel='Density')\n",
    "ax2.text(0.9,  -0.15, 'x$10^4$', transform=ax2.transAxes)\n",
    "\n",
    "counter=0\n",
    "colList = list(colourDict.values())\n",
    "for i in topSpecies:\n",
    "      \n",
    "#     colourVal = colList[counter]\n",
    "    \n",
    "    speciesName = i #'Staphylococcus aureus' # 'Salmonella enterica' # 'Escherichia coli'  # 'Mycobacterium tuberculosis' #  \n",
    "    maxcont = maxContig\n",
    "\n",
    "    prophageSizePlot2 = phageLengthDf[phageLengthDf['notes'] == 'Kept']\n",
    "    prophageSizePlot2 = prophageSizePlot2[prophageSizePlot2['assembly_accession'].isin(\n",
    "        list(taxameta[taxameta['species'] == speciesName]['assembly_accession']))]\n",
    "    nval = prophageSizePlot2.shape[0]\n",
    "    ngenomes = len(list(taxameta[taxameta['species'] == speciesName]['assembly_accession']))\n",
    "    \n",
    "    sns.kdeplot(x='bp', data=prophageSizePlot2, ax=ax4, lw=1.5,fill=True, color=colList[counter])#,color=colourDict.get('teal'))\n",
    "    counter=counter+1\n",
    "\n",
    "#     fig.suptitle('Species: '+speciesName+', max contigs: ' + str(maxContig) + r', genome $n=$'\n",
    "#                  + str(ngenomes)+ r', prophage $n=$' + str(nval))\n",
    "ax4.set(xlim=[0,9E4], xlabel='prophage (bp)',xticks=[0,2E4,4E4,6E4,8E4],xticklabels=['0','2','4','6','8'])\n",
    "ax4.text(0.95,  -0.15, 'x$10^4$', transform=ax4.transAxes)\n",
    "\n",
    "\n",
    "custom_lines = [Line2D([0], [0], color=colList[0], lw=1.5),\n",
    "                Line2D([0], [0], color=colList[1], lw=1.5),\n",
    "                Line2D([0], [0], color=colList[2], lw=1.5),\n",
    "                Line2D([0], [0], color=colList[3], lw=1.5),\n",
    "                Line2D([0], [0], color=colList[4], lw=1.5)]\n",
    "\n",
    "ax4.legend(custom_lines, [\"$\\it{S. enterica}$\",\"$\\it{C. jejuni}$\",\"$\\it{L. monocytogenes}$\",\"$\\it{L. monocytog'\\_B}$\",\"$\\it{S. pneumoniae}$\"], \n",
    "           handlelength=1,frameon=False, loc='upper right',bbox_to_anchor=(1.01, 1), fontsize='small')\n",
    "# ax4.legend()\n",
    "\n",
    "plt.annotate('a',(0.045,0.93),xycoords='figure fraction',weight='bold')\n",
    "plt.annotate('b',(0.6,0.93),xycoords='figure fraction',weight='bold')\n",
    "plt.annotate('c',(0.045,0.46),xycoords='figure fraction',fontweight='bold')\n",
    "plt.annotate('d',(0.6,0.46),xycoords='figure fraction',fontweight='bold')\n",
    "\n",
    "\n",
    "plt.show()\n",
    "\n",
    "# fig.savefig('../results/figures/panel2.png',dpi=600,bbox_inches='tight')"
   ]
  },
  {
   "cell_type": "markdown",
   "metadata": {},
   "source": [
    "### Check for multimodality in Fig 2b and Fig 2d\n",
    "\n",
    "Note that this section will require R packages. Skip the following cells if you don't have R installed and working with your python environment.\n",
    "\n",
    "Runs Hartigan's dip test on the prophage size distributions based on the representative gtdb genome set, and for S. enterica. There is also a subsampling bootstrap (Politis, Romano & Wolf Subsampling) to check the p-value behaviour further if required."
   ]
  },
  {
   "cell_type": "code",
   "execution_count": 232,
   "metadata": {},
   "outputs": [
    {
     "name": "stdout",
     "output_type": "stream",
     "text": [
      "p-value for Hartigan's dip test, balanced GTDB set is (note this may vary based on rng) 0.9972692790983325\n",
      "subsample bootsrapped p-value for Hartigan's dip test, balanced GTDB set is 0.9584179558470107\n",
      "p-value for Hartigan's dip test, Salmonella E. is (note this may vary based on rng) [0.]\n",
      "subsample bootstrapped p-value for Hartigan's dip test, Salmonella E. is 0.0\n"
     ]
    }
   ],
   "source": [
    "# import R packages\n",
    "diptest=importr('diptest')\n",
    "permute=importr('permute')\n",
    "lattice=importr('lattice')\n",
    "# spatstat=importr('spatstat')\n",
    "pandas2ri.activate()\n",
    "\n",
    "# Test representative gtdb set\n",
    "prophageSizePlot = phageLengthDf[phageLengthDf['notes'] == 'Kept']\n",
    "prophageSizePlot = prophageSizePlot[prophageSizePlot['assembly_accession'].isin(newickList)]\n",
    "\n",
    "# Subsampling bootstrap to ensure reasonable behaviour of test\n",
    "pvalboot = []\n",
    "bootsize = 8 * np.sqrt(len(prophageSizePlot['bp']))\n",
    "\n",
    "for i in range(0,500):\n",
    "    dat = np.array(prophageSizePlot['bp'].sample(n=math.floor(bootsize)))\n",
    "    pvalboot += [diptest.dip_test(dat)[1][0]]\n",
    "print('p-value for Hartigan\\'s dip test, balanced GTDB set is (note this may vary based on rng)',diptest.dip_test(dat)[1][0])\n",
    "print('subsample bootsrapped p-value for Hartigan\\'s dip test, balanced GTDB set is',np.mean(pvalboot))\n",
    "\n",
    "\n",
    "# Test for Salmonella \n",
    "prophageSizePlot2 = phageLengthDf[phageLengthDf['notes'] == 'Kept']\n",
    "prophageSizePlot2 = prophageSizePlot2[prophageSizePlot2['assembly_accession'].isin(\n",
    "    list(taxameta[taxameta['species'] == topSpecies[0]]['assembly_accession']))]\n",
    "prophageSizePlot2 = prophageSizePlot2[prophageSizePlot2['assembly_accession'].isin(contigListTh)]\n",
    "bootsize2 = 8 * np.sqrt(len(prophageSizePlot2['bp']))\n",
    "\n",
    "# Subsampling bootstrap to ensure reasonable behaviour of test\n",
    "pvalboot2 = []\n",
    "for i in range(0,500):\n",
    "    dat = np.array(prophageSizePlot2['bp'].sample(n=math.floor(bootsize2)))\n",
    "    pvalboot2 += [diptest.dip_test(dat)[1][0]]\n",
    "    \n",
    "dat = np.array(prophageSizePlot2['bp'].sample(n=71999))\n",
    "print('p-value for Hartigan\\'s dip test, Salmonella E. is (note this may vary based on rng)',diptest.dip_test(dat)[1])\n",
    "print('subsample bootstrapped p-value for Hartigan\\'s dip test, Salmonella E. is',np.mean(pvalboot2))"
   ]
  },
  {
   "cell_type": "markdown",
   "metadata": {},
   "source": [
    "#### Check multimodality for top 5 most abundant species in database\n",
    "This also requires R, take maximum number of genomes possible for these."
   ]
  },
  {
   "cell_type": "code",
   "execution_count": 234,
   "metadata": {},
   "outputs": [
    {
     "name": "stdout",
     "output_type": "stream",
     "text": [
      "For Salmonella enterica p-value for Hartigan's dip test for prophage size distribution [0.]\n",
      "For Campylobacter_D jejuni p-value for Hartigan's dip test for prophage size distribution [0.]\n",
      "For Escherichia coli p-value for Hartigan's dip test for prophage size distribution [0.]\n",
      "For Listeria monocytogenes_B p-value for Hartigan's dip test for prophage size distribution [0.]\n",
      "For Streptococcus pneumoniae p-value for Hartigan's dip test for prophage size distribution [0.]\n"
     ]
    }
   ],
   "source": [
    "for i in range(0,5):\n",
    "    maxcont = maxContig\n",
    "    # Grab the prophages that pass QC\n",
    "    prophageSizePlot2 = phageLengthDf[phageLengthDf['notes'] == 'Kept']\n",
    "    # Filter based on taxa\n",
    "    prophageSizePlot2 = prophageSizePlot2[prophageSizePlot2['assembly_accession'].isin(\n",
    "    list(taxameta[taxameta['species'] == topSpecies[i]]['assembly_accession']))]\n",
    "    prophageSizePlot2 = prophageSizePlot2[prophageSizePlot2['assembly_accession'].isin(contigListTh)]\n",
    "    try:\n",
    "        dat = np.array(prophageSizePlot2['bp'].sample(71999))\n",
    "    except:\n",
    "        dat = np.array(prophageSizePlot2['bp'])\n",
    "        \n",
    "    print('For',topSpecies[i], 'p-value for Hartigan\\'s dip test for prophage size distribution',diptest.dip_test(dat)[1])"
   ]
  },
  {
   "cell_type": "markdown",
   "metadata": {},
   "source": [
    "#### Get density calculations for the various data\n",
    "Print out summary data."
   ]
  },
  {
   "cell_type": "code",
   "execution_count": 338,
   "metadata": {},
   "outputs": [
    {
     "name": "stdout",
     "output_type": "stream",
     "text": [
      "MEANS\n",
      "the mean prophage density in the whole genome set >2Mbp is 0.030875024260459825\n",
      "the mean prophage density in the whole lysogen set is 0.030793112190657917\n",
      "the mean prophage density in the derepelicated gtdb lysogen set, Mbp>2 is 0.023861816395665973\n",
      "the mean prophage density in the derepelicated gtdb lysogen set, Mbp>2 is 0.019254445983356207\n",
      "the mean prophage density in the small genome set <2Mb 0.017590885673218263\n",
      "MEDIANS\n",
      "the median prophage density in the whole genome set >2Mbp is 0.030490234799033254\n",
      "the median prophage density in the whole lysogen set is 0.030022290681985947\n",
      "the median prophage density in the derepelicated gtdb lysogen set, Mbp>2 is 0.019762915261380798\n",
      "the median prophage density in the small genome set <2Mb is 0.01603701212121067\n"
     ]
    }
   ],
   "source": [
    "print('MEANS')\n",
    "print('the mean prophage density in the whole genome set >2Mbp is',taxameta[taxameta['Total Length (bp)'] > 2E6]['Kept_normed_all'].mean())\n",
    "print('the mean prophage density in the whole lysogen set is',taxameta[taxameta['Kept'] >0]['Kept_normed_all'].mean())\n",
    "print('the mean prophage density in the derepelicated gtdb lysogen set, Mbp>2 is',balancedSizePhage['Kept_normed_all'].mean())\n",
    "print('the mean prophage density in the small genome set <2Mb',taxameta[taxameta['Total Length (bp)'] < 2E6]['Kept_normed_all'].mean())\n",
    "\n",
    "print('MEDIANS')\n",
    "print('the median prophage density in the whole genome set >2Mbp is',taxameta[taxameta['Total Length (bp)'] > 2E6]['Kept_normed_all'].median())\n",
    "print('the median prophage density in the whole lysogen set is',taxameta[taxameta['Kept'] >0]['Kept_normed_all'].median())\n",
    "print('the median prophage density in the derepelicated gtdb lysogen set, Mbp>2 is',balancedSizePhage['Kept_normed_all'].median())\n",
    "print('the median prophage density in the small genome set <2Mb is',taxameta[taxameta['Total Length (bp)'] < 2E6]['Kept_normed_all'].median())"
   ]
  },
  {
   "cell_type": "code",
   "execution_count": 237,
   "metadata": {},
   "outputs": [
    {
     "name": "stdout",
     "output_type": "stream",
     "text": [
      "the mean prophage density in the small genome lysogens <2Mb is 0.025774732675932686\n"
     ]
    }
   ],
   "source": [
    "lysogensdf = taxameta[taxameta['Kept'] > 0]\n",
    "print('the mean prophage density in the small genome lysogens <2Mb is',lysogensdf[lysogensdf['Total Length (bp)'] < 2E6]['Kept_normed_all'].mean())"
   ]
  },
  {
   "cell_type": "code",
   "execution_count": 238,
   "metadata": {},
   "outputs": [
    {
     "name": "stdout",
     "output_type": "stream",
     "text": [
      "Salmonella Enterica prophage density is 0.032948408799397734\n",
      "E coli prophage density is 0.03278842724523899\n"
     ]
    }
   ],
   "source": [
    "print('Salmonella Enterica prophage density is', taxameta[(taxameta['species']=='Salmonella enterica') & (taxameta['Kept'] > 0)]['Kept_normed_all'].median())\n",
    "print('E coli prophage density is', taxameta[(taxameta['species']=='Escherichia coli') & (taxameta['Kept'] > 0)]['Kept_normed_all'].median())"
   ]
  },
  {
   "cell_type": "markdown",
   "metadata": {},
   "source": [
    "## Figure 3"
   ]
  },
  {
   "cell_type": "markdown",
   "metadata": {},
   "source": [
    "Use the genbank assembly summary to get additional metadata e.g. MAG status, as well as isolation date (proxied as sample date)"
   ]
  },
  {
   "cell_type": "code",
   "execution_count": 239,
   "metadata": {},
   "outputs": [
    {
     "name": "stdout",
     "output_type": "stream",
     "text": [
      "there are 75378 genomes with date metadata\n"
     ]
    }
   ],
   "source": [
    "print('there are',len(taxameta[taxameta['isolation_date'].notnull()]),'genomes with date metadata')"
   ]
  },
  {
   "cell_type": "markdown",
   "metadata": {},
   "source": [
    "#### Plot 3a\n",
    "Generate dataframe of genomes which have date metadata and plot a joint KDE with prophage density"
   ]
  },
  {
   "cell_type": "code",
   "execution_count": 240,
   "metadata": {},
   "outputs": [
    {
     "name": "stderr",
     "output_type": "stream",
     "text": [
      "/Users/JFisher/anaconda3/lib/python3.8/site-packages/seaborn/axisgrid.py:1668: UserWarning: Tight layout not applied. tight_layout cannot make axes width small enough to accommodate all axes decorations\n",
      "  f.tight_layout()\n"
     ]
    },
    {
     "data": {
      "image/png": "[encoded data removed]",
      "text/plain": [
       "<Figure size 144x144 with 3 Axes>"
      ]
     },
     "metadata": {
      "needs_background": "light"
     },
     "output_type": "display_data"
    }
   ],
   "source": [
    "tmpKDE = taxameta[taxameta['isolation_date'].notnull()]\n",
    "\n",
    "# create jointgrid and plot data\n",
    "gr = sns.JointGrid(x='isolation_date', y='Kept_normed', data=tmpKDE,xlim=(1970, 2020), ylim=(0, 0.125), height=2) # counts normed by genome length\n",
    "gr.plot_joint(sns.kdeplot, fill=True, cmap=\"light:\"+colourDict.get('indigo'), n_levels=25,cbar=False)\n",
    "gr.plot_marginals(sns.kdeplot, linewidth=0,  fill=True, bw_adjust=1.4,color=colourDict.get('indigo')) # \"#03012d\"\n",
    "\n",
    "# annotate axes and plot\n",
    "gr.ax_joint.set_xlabel('Date isolated/sampled')\n",
    "gr.ax_joint.set_ylabel('Prophage density')\n",
    "\n",
    "gr.ax_joint.yaxis.offsetText.set_visible(False)\n",
    "gr.ax_joint.text(x = 1.03, y = 1.07, s = 'x$10^{-6}$', transform=gr.ax_joint.transAxes)#,xy=(0.01,1), xycoords='figure fraction')\n",
    "plt.setp(gr.ax_marg_y.get_yticklabels(), visible=False)\n",
    "\n",
    "plt.show()"
   ]
  },
  {
   "cell_type": "markdown",
   "metadata": {},
   "source": [
    "### Generate metadata for plots 3c-3e\n",
    "Choose phylogenetic level and get date of when phylum first appeared in database"
   ]
  },
  {
   "cell_type": "code",
   "execution_count": 266,
   "metadata": {},
   "outputs": [],
   "source": [
    "# what phylogenetic level for \n",
    "level = 'phylum'\n",
    "\n",
    "normtype = 'Kept_normed'\n",
    "earliestIsoltionDf = taxameta[~taxameta['isolation_date'].isna()][[level,'isolation_date']].groupby(level).min().add_suffix('min').reset_index().sort_values(by='isolation_datemin')\n",
    "earliestDict = dict(zip(earliestIsoltionDf[level],earliestIsoltionDf['isolation_datemin']))\n",
    "taxameta['isolation_datemin'] = taxameta[level].map(earliestDict)\n",
    "\n",
    "earliestIsoltionDf = taxameta[~taxameta['isolation_date'].isna()][[level,'isolation_date']].groupby(level).min().add_suffix('min').reset_index().sort_values(by='isolation_datemin')\n",
    "earliestDict = dict(zip(earliestIsoltionDf[level],earliestIsoltionDf['isolation_datemin']))\n",
    "firstIsolated = taxameta.groupby('phylum').mean().reset_index()\n",
    "firstIsolated = firstIsolated[firstIsolated['isolation_datemin'] > 1850]"
   ]
  },
  {
   "cell_type": "markdown",
   "metadata": {},
   "source": [
    "Collate information for how many potential prophage were picked up by phispy and how many matched to the DBs"
   ]
  },
  {
   "cell_type": "code",
   "execution_count": 267,
   "metadata": {},
   "outputs": [],
   "source": [
    "# Get the full phage data dump and pivot dataframe to format we need\n",
    "phageLengthDf2 = phageLengthDf[phageLengthDf['assembly_accession'].isin(contigListTh)]\n",
    "procKept = phageLengthDf2.groupby(['assembly_accession','notes']).sum().reset_index()\n",
    "procKept = procKept.pivot(index='assembly_accession', columns='notes', values='bp').reset_index()\n",
    "procKept = procKept.rename_axis(None, axis=\"columns\")\n",
    "procKept.fillna(0, inplace=True)\n",
    "\n",
    "# create new discard column \n",
    "procKept['discard'] = procKept['Dropped. No genes were identified as phage genes'\n",
    "                              ] + procKept['Dropped. Not enough genes'\n",
    "                                          ] + procKept['Dropped. Region too small (Not enough genes)']\n",
    "\n",
    "# calculate proportions of how much data was kept\n",
    "tmp2 = taxameta[['assembly_accession',level,'bp prophage']].merge(procKept,on='assembly_accession')\n",
    "keptExplore = pd.DataFrame(tmp2.groupby(level)[\"discard\"].mean()).reset_index()\n",
    "# Group at requested taxonomic level from above\n",
    "keptExplore['bp prophage'] = tmp2.groupby(level)[\"bp prophage\"].mean().values\n",
    "#\n",
    "keptExplore['isolation_datemin'] = keptExplore[level].map(earliestDict)\n",
    "keptExplore['bp found'] = keptExplore['discard'].values + keptExplore['bp prophage'].values\n",
    "keptExplore['prop kept'] = keptExplore['bp prophage'].values / (keptExplore['bp prophage'].values \n",
    "                                                                + keptExplore['discard'].values) # +1\n",
    "\n",
    " "
   ]
  },
  {
   "cell_type": "code",
   "execution_count": 268,
   "metadata": {},
   "outputs": [],
   "source": [
    "# Generate annual bins for plot 3c \n",
    "bins2 = np.arange(1810,2024,1)\n",
    "yearTaxa2 = taxameta.copy()\n",
    "yearTaxa2 = yearTaxa2[~yearTaxa2['isolation_date'].isnull()]\n",
    "yearTaxa2 = yearTaxa2[yearTaxa2['isolation_date'] < 2019]\n",
    "yearTaxa2['bin'] = pd.cut(taxameta['isolation_date'], bins2)\n",
    "yearTaxa2[\"bin_centres\"] = yearTaxa2[\"bin\"].apply(lambda x: x.mid).astype(np.float64)\n",
    "binsets3 = list(yearTaxa2['bin_centres'].unique())\n",
    "\n",
    "# initialise list for non-lysogenic genome counts\n",
    "yearList3 = []\n",
    "\n",
    "# counts of how many non-lysogenic genomes there were in total\n",
    "for binVal in binsets3:\n",
    "    num = len(yearTaxa2[yearTaxa2['bin_centres'] == binVal]) # how many genomes\n",
    "    subDf = yearTaxa2[yearTaxa2['bin_centres'] == binVal] # grab the genomes from that year\n",
    "    numzeros = len(subDf[subDf['Kept'] == 0]) # count how many were non lysogens\n",
    "    yearList3 += [numzeros] # add to the list"
   ]
  },
  {
   "cell_type": "markdown",
   "metadata": {},
   "source": [
    "#### Plot fig 3"
   ]
  },
  {
   "cell_type": "code",
   "execution_count": 269,
   "metadata": {},
   "outputs": [
    {
     "data": {
      "image/png": "[encoded data removed]",
      "text/plain": [
       "<Figure size 449.315x302.937 with 7 Axes>"
      ]
     },
     "metadata": {
      "needs_background": "light"
     },
     "output_type": "display_data"
    }
   ],
   "source": [
    "fig = plt.figure(figsize=(fig_width*1.1,1.2*fig_height))\n",
    "# plt.figure()\n",
    "\n",
    "gs = gridspec.GridSpec(5, 6)\n",
    "\n",
    "f3_ax1 = fig.add_subplot(gs[0:3, 0:3])\n",
    "sns.scatterplot(x='isolation_date', y='Kept', ax = f3_ax1, \n",
    "                data=taxameta[(taxameta['isolation_date'].notnull()) & (taxameta['isolation_date'] > 1850)], \n",
    "                marker='+', color=colourDict.get('indigo'), alpha=0.6, s=8)\n",
    "\n",
    "f3_ax2 = SeabornFig2Grid(gr, fig, gs[0:3, 3:6])\n",
    "\n",
    "f3_ax3 = fig.add_subplot(gs[3:5, 0:2])\n",
    "sns.scatterplot(x=binsets3,y=yearList3, linewidth=0, ax=f3_ax3,s=18,alpha=0.85, \n",
    "                color=colourDict.get('wine'))\n",
    "f3_ax3.set(xlabel='Year isolated or sampled', ylabel='Total non-lysogens', yscale='log',\n",
    "          xlim=[1894,2021],ylim=[0.8,5E3])\n",
    "\n",
    "f3_ax4 = fig.add_subplot(gs[3:5, 4:6])\n",
    "sns.scatterplot(x='bp found',y='prop kept', data=keptExplore[keptExplore['isolation_datemin']>=1900],\n",
    "               hue='isolation_datemin', size='isolation_datemin',sizes=(40,3),\n",
    "               palette=sns.cubehelix_palette(as_cmap=True).reversed(), ax=f3_ax4)\n",
    "f3_ax4.set(xticks=[3E5,6E5],xticklabels=['3E5','6E5'],\n",
    "           xlabel='potential prophage (bp)',ylabel='Prop verified', xlim=[0,6E5], ylim=[0,0.6])\n",
    "\n",
    "handles, labels = f3_ax4.get_legend_handles_labels()\n",
    "c1 = handles[0].get_facecolors()\n",
    "c2 = handles[2].get_facecolors()\n",
    "c3 = handles[4].get_facecolors()\n",
    "\n",
    "handles[4].set_facecolors(c1)\n",
    "handles[0].set_facecolors(c3)\n",
    "\n",
    "handles[0].set_sizes([3])\n",
    "handles[4].set_sizes([40])\n",
    "handles[2].set_sizes([18.5])\n",
    "\n",
    "handles[4].set_edgecolors(None)\n",
    "handles[2].set_edgecolors(None)\n",
    "handles[0].set_edgecolors(None)\n",
    "\n",
    "h2 = [handles[4],handles[2],handles[0]]\n",
    "l2 = [labels[0],labels[2],labels[4]]\n",
    "\n",
    "legend2 = f3_ax4.legend(h2,l2,frameon=True,handletextpad=-0.3, loc='upper right',\n",
    "                        borderpad=0.06)\n",
    "\n",
    "f3_ax5 = fig.add_subplot(gs[3:5, 2:4])\n",
    "sns.regplot(x=firstIsolated['isolation_datemin'],y=firstIsolated[normtype], ax=f3_ax5,\n",
    "           scatter_kws={'s':10},color=colourDict.get('teal'))\n",
    "f3_ax5.set(xlim=[1894,2021],xlabel='Phlylum first isolated or sampled',ylabel='Avg density prophages')\n",
    "f3_ax1.set(ylabel='Total prophages',xlabel='Date isolated/sampled')\n",
    "\n",
    "gs.tight_layout(fig)\n",
    "\n",
    "plt.annotate('a',(0.024,0.97),xycoords='figure fraction',weight='bold')\n",
    "plt.annotate('b',(0.506,0.97),xycoords='figure fraction',weight='bold')\n",
    "plt.annotate('c',(0.023,0.38),xycoords='figure fraction',fontweight='bold')\n",
    "plt.annotate('d',(0.35,0.38),xycoords='figure fraction',fontweight='bold')\n",
    "plt.annotate('e',(0.66,0.38),xycoords='figure fraction',fontweight='bold')\n",
    "\n",
    "plt.show()\n",
    "\n",
    "# fig.savefig('../results/figures/fig3_panel.png', dpi=600)\n",
    "fig.savefig('../results/figures/fig3_panel.pdf')"
   ]
  },
  {
   "cell_type": "markdown",
   "metadata": {},
   "source": [
    "#### Slope in Figure 3a\n",
    "\n",
    "Calculate regression and get slope and p value"
   ]
  },
  {
   "cell_type": "code",
   "execution_count": 270,
   "metadata": {},
   "outputs": [
    {
     "name": "stdout",
     "output_type": "stream",
     "text": [
      "slope -0.02348775141277848 R2 0.007297238797020037 p-value 4.5091834662821327e-122\n"
     ]
    }
   ],
   "source": [
    "slope, intercept, r_value, p_value, std_err = scp.stats.linregress(\n",
    "    x=taxameta[taxameta['isolation_date'].notnull()]['isolation_date'].astype(float),\n",
    "               y=taxameta[taxameta['isolation_date'].notnull()]['Kept'])\n",
    "print('slope', slope, 'R2',r_value**2, 'p-value',p_value)"
   ]
  },
  {
   "cell_type": "markdown",
   "metadata": {},
   "source": [
    "#### Mann-Whitney for significant difference of prophage densities between MAG and non-MAG\n",
    "\n",
    "Run a Mann-Whitney U-test to see whether there is a significant difference in prophage densities between MAG or non-MAG genomes"
   ]
  },
  {
   "cell_type": "code",
   "execution_count": 271,
   "metadata": {},
   "outputs": [
    {
     "name": "stdout",
     "output_type": "stream",
     "text": [
      "means are (%): MAG  1.3997576859889465 , non-MAG  3.1639019667005024\n",
      "medians are (%): MAG  0.7251512016685987 , non-MAG  3.013792948939626\n",
      "MannwhitneyuResult(statistic=1962800743.0, pvalue=0.0)\n"
     ]
    }
   ],
   "source": [
    "print('means are (%): MAG ',\n",
    "      100*np.mean(taxameta[taxameta['assembly_accession'].isin(magAccs)]['Kept_normed'].values),\n",
    "      ', non-MAG ', \n",
    "      100*np.mean(taxameta[~taxameta['assembly_accession'].isin(magAccs)]['Kept_normed'].values))\n",
    "print('medians are (%): MAG ',\n",
    "      100*np.median(taxameta[taxameta['assembly_accession'].isin(magAccs)]['Kept_normed'].values), \n",
    "      ', non-MAG ',\n",
    "      100*np.median(taxameta[~taxameta['assembly_accession'].isin(magAccs)]['Kept_normed'].values))\n",
    "print(mannwhitneyu(taxameta[taxameta['assembly_accession'].isin(magAccs)]['Kept_normed'].values, \n",
    "             +taxameta[~taxameta['assembly_accession'].isin(magAccs)]['Kept_normed'].values))"
   ]
  },
  {
   "cell_type": "markdown",
   "metadata": {},
   "source": [
    "#### Regression showing near uniform behaviour in Fig 3e"
   ]
  },
  {
   "cell_type": "code",
   "execution_count": 272,
   "metadata": {},
   "outputs": [
    {
     "name": "stdout",
     "output_type": "stream",
     "text": [
      "slope 1.4952764133061296e-07 R2 0.007452171161303832 p-value 0.321301894353903\n"
     ]
    }
   ],
   "source": [
    "slope, intercept, r_value, p_value, std_err = scp.stats.linregress(\n",
    "    keptExplore['bp found'],keptExplore['prop kept'])\n",
    "print('slope', slope, 'R2',r_value**2, 'p-value',p_value)"
   ]
  },
  {
   "cell_type": "markdown",
   "metadata": {},
   "source": [
    "#### Proportion of discarded prophages due to insufficent DB matches or size of segment"
   ]
  },
  {
   "cell_type": "code",
   "execution_count": 273,
   "metadata": {},
   "outputs": [
    {
     "name": "stdout",
     "output_type": "stream",
     "text": [
      "proportion of discarded genes from PhiSpy due to not being in the database or too few genes: 0.6579446723191236\n"
     ]
    }
   ],
   "source": [
    "dreplist = phageLengthDf[phageLengthDf['assembly_accession'].isin(newickList)]\n",
    "countsDf = dreplist.groupby('notes').count()\n",
    "totalcount = countsDf['assembly_accession'].sum()\n",
    "countsDf['proportions'] = countsDf['assembly_accession'] / totalcount\n",
    "\n",
    "print('proportion of discarded genes from PhiSpy due to not being in the database or too few genes:',\n",
    "      countsDf.loc['Dropped. No genes were identified as phage genes','proportions'] + \n",
    "      countsDf.loc['Dropped. Not enough genes','proportions'])"
   ]
  },
  {
   "cell_type": "code",
   "execution_count": 274,
   "metadata": {},
   "outputs": [
    {
     "name": "stdout",
     "output_type": "stream",
     "text": [
      "proportion of genes meeting phispy QC but no matches to database is. 0.6563047665762299\n",
      "thus the proportion of kept phage genes is 0.34369523342377006\n"
     ]
    }
   ],
   "source": [
    "print('proportion of genes meeting phispy QC but no matches to database is.',countsDf.loc['Dropped. No genes were identified as phage genes','proportions'] / (countsDf.loc['Dropped. No genes were identified as phage genes','proportions'] \n",
    "                                                                                  + countsDf.loc['Kept','proportions']))\n",
    "\n",
    "print('thus the proportion of kept phage genes is',1-countsDf.loc['Dropped. No genes were identified as phage genes','proportions'] / (countsDf.loc['Dropped. No genes were identified as phage genes','proportions'] \n",
    "                                                                                  + countsDf.loc['Kept','proportions']))"
   ]
  },
  {
   "cell_type": "markdown",
   "metadata": {},
   "source": [
    "## Fig 4\n",
    "\n",
    "Country and phyla sampling heatmap. Firstly, calculate some statistics and metadata."
   ]
  },
  {
   "cell_type": "code",
   "execution_count": 275,
   "metadata": {},
   "outputs": [],
   "source": [
    "# Minimum number of genomes to be included in country counts\n",
    "genomen = 10 \n",
    "# How many phyla to consider\n",
    "numphyl = 1\n",
    "\n",
    "tmpc = pd.DataFrame(taxameta.groupby('isolation_country').count()['assembly_accession'] > genomen)\n",
    "smalltmp = taxameta[taxameta['isolation_country'].isin(tmpc[tmpc['assembly_accession']].index)]\n",
    "\n",
    "# Take top 15 countries and sort dataframe\n",
    "topcountries = list(smalltmp.groupby('isolation_country').count()['assembly_accession'].sort_values(ascending=False).index)[0:15]\n",
    "tmpc = pd.DataFrame(taxameta.groupby('phylum').count()['assembly_accession'] > numphyl)\n",
    "smalltmp = smalltmp[smalltmp['phylum'].isin(tmpc[tmpc['assembly_accession']].index)]\n",
    "topphyla = list(smalltmp.groupby('phylum').count()['assembly_accession'].sort_values(ascending=False).index)"
   ]
  },
  {
   "cell_type": "code",
   "execution_count": 319,
   "metadata": {},
   "outputs": [
    {
     "name": "stdout",
     "output_type": "stream",
     "text": [
      "the genomes with country metadata included 76070 genomes\n"
     ]
    },
    {
     "data": {
      "text/plain": [
       "isolation_country\n",
       "United States     25569\n",
       "China              6822\n",
       "United Kingdom     4687\n",
       "Name: assembly_accession, dtype: int64"
      ]
     },
     "execution_count": 319,
     "metadata": {},
     "output_type": "execute_result"
    }
   ],
   "source": [
    "print('the genomes with country metadata included',taxameta[~taxameta['isolation_country'].isnull()].shape[0],'genomes')\n",
    "\n",
    "taxameta.groupby('isolation_country').count()['assembly_accession'].sort_values(ascending=False).head(3)"
   ]
  },
  {
   "cell_type": "code",
   "execution_count": 311,
   "metadata": {},
   "outputs": [
    {
     "name": "stdout",
     "output_type": "stream",
     "text": [
      "out of the entire dataset, the taxa groups with the most samples are\n",
      "phylum\n",
      "Proteobacteria      353392\n",
      "Firmicutes          109590\n",
      "Campylobacterota     60021\n",
      "Name: assembly_accession, dtype: int64\n",
      "these phyla constitute 0.9102162926041435 of the dataset\n"
     ]
    }
   ],
   "source": [
    "print('out of the entire dataset, the taxa groups with the most samples are')\n",
    "print(taxameta.groupby('phylum').count()['assembly_accession'].sort_values(ascending=False).head(3))\n",
    "\n",
    "print('these phyla constitute',taxameta.groupby('phylum').count()['assembly_accession'].sort_values(ascending=False).head(3).reset_index()['assembly_accession'].sum()/ taxameta.shape[0], 'of the dataset')"
   ]
  },
  {
   "cell_type": "code",
   "execution_count": 318,
   "metadata": {},
   "outputs": [
    {
     "name": "stdout",
     "output_type": "stream",
     "text": [
      "total predicted phage HMM hits matching VOG for these clades is\n",
      "Proteobacteria : [0.78269969]\n",
      "Firmicutes : [0.54838675]\n",
      "Campylobacterota : [0.37417919]\n"
     ]
    }
   ],
   "source": [
    "print('total predicted phage HMM hits matching VOG for these clades is')\n",
    "for i in taxameta.groupby('phylum').count()['assembly_accession'].sort_values(ascending=False).head(3).reset_index()['phylum']:\n",
    "    print(i, ':',keptExplore[keptExplore['phylum'] == i]['prop kept'].values)"
   ]
  },
  {
   "cell_type": "code",
   "execution_count": 282,
   "metadata": {},
   "outputs": [],
   "source": [
    "procKept['discard_small'] = procKept['Dropped. No genes were identified as phage genes']\n",
    "print('discarded',procKept['discard_small'].mean())\n",
    "\n",
    "tmp2 = taxameta[['assembly_accession',level,'bp prophage']].merge(procKept,on='assembly_accession')\n",
    "keptExplore = pd.DataFrame(tmp2.groupby(level)[\"discard_small\"].mean()).reset_index()\n",
    "keptExplore['bp prophage'] = tmp2.groupby(level)[\"bp prophage\"].mean().values\n",
    "keptExplore['isolation_datemin'] = keptExplore[level].map(earliestDict)\n",
    "keptExplore['bp found'] = keptExplore['discard_small'].values + keptExplore['bp prophage'].values\n",
    "keptExplore['prop kept'] = keptExplore['bp prophage'].values / (keptExplore['bp prophage'].values\n",
    "                                                                + keptExplore['discard_small'].values)\n",
    "keptExplore.fillna(0, inplace=True)"
   ]
  },
  {
   "cell_type": "markdown",
   "metadata": {},
   "source": [
    "How many matches to VOG on the least sequenced phyla?"
   ]
  },
  {
   "cell_type": "code",
   "execution_count": 337,
   "metadata": {},
   "outputs": [
    {
     "name": "stdout",
     "output_type": "stream",
     "text": [
      "Proportion hitting to VOG on the 5 least sequenced phyla (that have at least 5 genomes sequenced) is 0.14335650142139295\n"
     ]
    }
   ],
   "source": [
    "# Count how many times each phylum is sampled\n",
    "leastsequenced = taxameta.groupby('phylum').count()['assembly_accession'].sort_values(ascending=False).reset_index()\n",
    "# Ensure there are at least 5 genomes sampled for that phylum\n",
    "leastsequenced = leastsequenced[leastsequenced['assembly_accession'] >= 5]\n",
    "# grab the 5 least sequenced\n",
    "tenLeastSequenced = list(leastsequenced.tail(5).reset_index()['phylum'])\n",
    "print('Proportion hitting to VOG on the 5 least sequenced phyla (that have at least 5 genomes sequenced) is',np.mean(keptExplore[keptExplore['phylum'].isin(tenLeastSequenced)]['prop kept']))"
   ]
  },
  {
   "cell_type": "markdown",
   "metadata": {},
   "source": [
    "And across the full database (per phylum, not weighted by sample size)"
   ]
  },
  {
   "cell_type": "code",
   "execution_count": 323,
   "metadata": {},
   "outputs": [
    {
     "name": "stdout",
     "output_type": "stream",
     "text": [
      "for all phyla the hits average 0.29932021200183556\n"
     ]
    }
   ],
   "source": [
    "print('for all phyla the hits average', np.mean(keptExplore.groupby('phylum').mean()['prop kept']))"
   ]
  },
  {
   "cell_type": "markdown",
   "metadata": {},
   "source": [
    "#### Generate heatmap\n",
    "Figure 4 country heatmap - group counts by country and phylum and pivot"
   ]
  },
  {
   "cell_type": "code",
   "execution_count": 324,
   "metadata": {},
   "outputs": [
    {
     "data": {
      "image/png": "[encoded data removed]",
      "text/plain": [
       "<Figure size 408.468x252.447 with 2 Axes>"
      ]
     },
     "metadata": {
      "needs_background": "light"
     },
     "output_type": "display_data"
    }
   ],
   "source": [
    "df_m = smalltmp.groupby([\"isolation_country\", \"phylum\"]).size().unstack(level=0)\n",
    "\n",
    "# Sort and reindex so top counts are in the top left and lowest bottom right|\n",
    "df_m.index = pd.CategoricalIndex(df_m.index, categories= topphyla)\n",
    "df_m.sort_index(level=0, inplace=True)\n",
    "df_m = df_m.reindex(columns=topcountries)\n",
    "df_m = df_m.iloc[0:27,:]\n",
    "\n",
    "# Create log colour scale for visualisation\n",
    "lognorm = LogNorm(vmin=0.1, vmax=1E4)\n",
    "fig, ax = plt.subplots(1,1,figsize=(fig_width,1*fig_height))\n",
    "# Create colourbar stats\n",
    "cbar_ax = fig.add_axes([0.93, 0.13, .03, 0.75])\n",
    "\n",
    "# plot\n",
    "g = sns.heatmap(df_m.T,norm=lognorm,\n",
    "            cmap = sns.light_palette(colourDict.get(\"wine\"), as_cmap=True),\n",
    "           ax=ax, cbar_ax = cbar_ax, vmin=0.1,cbar_kws={\"ticks\":[1E0,1E2,1E4]})\n",
    "\n",
    "# Figure and axes formatting\n",
    "ax.set(xlabel='',ylabel='')\n",
    "cbar_ax.set_ylim(.1,1E4)\n",
    "plt.yticks(rotation=0) \n",
    "g.set_yticklabels(g.get_yticklabels(), rotation = 45,va='top')\n",
    "g.set_xticklabels(g.get_xticklabels(), rotation = 45,ha='right')\n",
    "\n",
    "\n",
    "plt.show()\n",
    "fig.savefig('../results/figures/countries.png',dpi=600,bbox_inches = \"tight\")\n"
   ]
  },
  {
   "cell_type": "markdown",
   "metadata": {},
   "source": [
    "## Generate metadata to import to iTOL for Figure 5"
   ]
  },
  {
   "cell_type": "code",
   "execution_count": 339,
   "metadata": {},
   "outputs": [
    {
     "data": {
      "image/png": "[encoded data removed]",
      "text/plain": [
       "<Figure size 408.468x252.447 with 2 Axes>"
      ]
     },
     "metadata": {
      "needs_background": "light"
     },
     "output_type": "display_data"
    }
   ],
   "source": [
    "# Colour list\n",
    "iridescent = ['#FEFBE9', '#FCF7D5', '#F5F3C1', '#EAF0B5', '#DDECBF',\n",
    "        '#D0E7CA', '#C2E3D2', '#B5DDD8', '#A8D8DC', '#9BD2E1',\n",
    "        '#8DCBE4', '#81C4E7', '#7BBCE7', '#7EB2E4', '#88A5DD',\n",
    "        '#9398D2', '#9B8AC4', '#9D7DB2', '#9A709E', '#906388',\n",
    "        '#805770', '#684957', '#46353A']\n",
    "\n",
    "# Generate colourmap for 19557 genomes\n",
    "iridCM = colors.LinearSegmentedColormap.from_list('mycols',iridescent, N=19557)\n",
    "norm = colors.Normalize(vmin=0, vmax=28360)\n",
    "iridArr = iridCM(np.linspace(0, 1, 19557))\n",
    "\n",
    "# Generate colour map and colour bar\n",
    "balancedTaxDf = taxameta[taxameta['assembly_accession'].isin(newickList)]\n",
    "phsum = balancedTaxDf.groupby('phylum').mean().reset_index()\n",
    "cmap1 = iridCM\n",
    "norm = Normalize(vmin=phsum['Kept_normed'].min(), vmax=phsum['Kept_normed'].max())\n",
    "\n",
    "# Do the colour mapping\n",
    "m = cm.ScalarMappable(norm=norm, cmap=cmap1)\n",
    "\n",
    "# Generate a list of colours for each phylum based on their average prophage density\n",
    "collist = [mpl.colors.to_hex(a) for a in m.to_rgba(phsum['Kept_normed'])]\n",
    "\n",
    "# Create colourbar for figure 5\n",
    "fig, ax = plt.subplots(1,1)\n",
    "fig.colorbar(mpl.cm.ScalarMappable(norm=norm, cmap=cmap1),ax=ax,orientation='horizontal',\n",
    "             label=\"Avg. density prophages\")\n",
    "plt.show()\n",
    "\n",
    "fig.savefig('../results/figures/colorbar.png',dpi=200)"
   ]
  },
  {
   "cell_type": "code",
   "execution_count": 305,
   "metadata": {
    "collapsed": true,
    "jupyter": {
     "outputs_hidden": true
    }
   },
   "outputs": [
    {
     "data": {
      "text/plain": [
       "['#92cee3',\n",
       " '#d3e8c7',\n",
       " '#dbebc1',\n",
       " '#afdbda',\n",
       " '#c8e5cf',\n",
       " '#daebc1',\n",
       " '#c8e5cf',\n",
       " '#bce0d5',\n",
       " '#8acae5',\n",
       " '#d9ebc2',\n",
       " '#fefbe9',\n",
       " '#d4e8c7',\n",
       " '#d6e9c5',\n",
       " '#b1dcd9',\n",
       " '#fefbe9',\n",
       " '#f1f2bc',\n",
       " '#46353a',\n",
       " '#e6efb8',\n",
       " '#fefbe9',\n",
       " '#dcecc0',\n",
       " '#dbebc1',\n",
       " '#c1e2d3',\n",
       " '#fefbe9',\n",
       " '#c8e5ce',\n",
       " '#f4f3bf',\n",
       " '#8ecce4',\n",
       " '#cfe7cb',\n",
       " '#f6f3c3',\n",
       " '#d7eac4',\n",
       " '#b6ddd8',\n",
       " '#f8f4c8',\n",
       " '#afdbda',\n",
       " '#bfe2d3',\n",
       " '#cfe7ca',\n",
       " '#cfe7ca',\n",
       " '#ddecbf',\n",
       " '#c5e4d0',\n",
       " '#f9f5cb',\n",
       " '#e8efb6',\n",
       " '#b9dfd6',\n",
       " '#e4eeba',\n",
       " '#e0edbd',\n",
       " '#fcf8d8',\n",
       " '#f9f5cd',\n",
       " '#fdf9df',\n",
       " '#a5d7dd',\n",
       " '#b6ddd8',\n",
       " '#e8efb6',\n",
       " '#b4ddd8',\n",
       " '#c5e4d0',\n",
       " '#cae5cd',\n",
       " '#c8e5cf',\n",
       " '#fdf9e1',\n",
       " '#daebc2',\n",
       " '#eff1bb',\n",
       " '#91cde3',\n",
       " '#8dcbe4',\n",
       " '#85a8df',\n",
       " '#7bbde7',\n",
       " '#7ec0e7',\n",
       " '#acd9db',\n",
       " '#88c8e5',\n",
       " '#96d0e2',\n",
       " '#b9dfd6',\n",
       " '#82ace1',\n",
       " '#cce6cc',\n",
       " '#fefae5',\n",
       " '#ecf1b8',\n",
       " '#dfedbd',\n",
       " '#ecf1b8',\n",
       " '#e3eebb',\n",
       " '#e9f0b6',\n",
       " '#d2e8c8',\n",
       " '#fefbe9',\n",
       " '#82c5e7',\n",
       " '#e7efb7',\n",
       " '#c1e3d2',\n",
       " '#faf6d0',\n",
       " '#d9ebc2',\n",
       " '#f0f2bb',\n",
       " '#e4eeb9',\n",
       " '#b9dfd6',\n",
       " '#909bd5',\n",
       " '#f8f5ca',\n",
       " '#d0e7ca',\n",
       " '#cae5ce',\n",
       " '#8f9dd6',\n",
       " '#eef1b9',\n",
       " '#bbe0d5',\n",
       " '#c5e4d0',\n",
       " '#8f9dd6',\n",
       " '#b1dcd9',\n",
       " '#86c7e6',\n",
       " '#e1edbc',\n",
       " '#d4e9c6',\n",
       " '#fbf6d2',\n",
       " '#b7ded7',\n",
       " '#c8e5ce',\n",
       " '#cce6cc',\n",
       " '#dcebc0',\n",
       " '#e8efb7',\n",
       " '#f6f3c3',\n",
       " '#c2e3d2',\n",
       " '#cee6cb',\n",
       " '#cde6cc',\n",
       " '#fdf9e1',\n",
       " '#abd9db',\n",
       " '#f3f2be',\n",
       " '#ddecbf',\n",
       " '#fefbe9',\n",
       " '#d3e8c7',\n",
       " '#f2f2bd',\n",
       " '#deecbe',\n",
       " '#7db4e5',\n",
       " '#e7efb8',\n",
       " '#fefbe9',\n",
       " '#dfedbe',\n",
       " '#cbe6cd',\n",
       " '#bbe0d5',\n",
       " '#dbebc1',\n",
       " '#fefbe9',\n",
       " '#e4eeba',\n",
       " '#ecf1b7',\n",
       " '#c3e3d1']"
      ]
     },
     "execution_count": 305,
     "metadata": {},
     "output_type": "execute_result"
    }
   ],
   "source": [
    "collist"
   ]
  },
  {
   "cell_type": "markdown",
   "metadata": {},
   "source": [
    "## Supplementary Figures"
   ]
  },
  {
   "cell_type": "markdown",
   "metadata": {},
   "source": [
    "#### Figure S1\n",
    "Scatterplot and regression of the total base pairs of prophage DNA in a genome against total number of prophages found in a genome (all data)"
   ]
  },
  {
   "cell_type": "code",
   "execution_count": 201,
   "metadata": {},
   "outputs": [
    {
     "data": {
      "image/png": "[encoded data removed]",
      "text/plain": [
       "<Figure size 204.234x151.468 with 1 Axes>"
      ]
     },
     "metadata": {
      "needs_background": "light"
     },
     "output_type": "display_data"
    },
    {
     "name": "stdout",
     "output_type": "stream",
     "text": [
      "The regression statistics for this plot are: slope 22489.184448265118 R2 0.8176869619584214 p-value 0.0\n"
     ]
    }
   ],
   "source": [
    "\n",
    "numPhageBP = taxameta.copy()\n",
    "\n",
    "fig, ax = plt.subplots(1,1,figsize=(0.5*fig_width,0.6*fig_height))\n",
    "\n",
    "sns.scatterplot(x='Kept',y='bp prophage', data = numPhageBP,color=colourDict.get('teal'), s=11, alpha=0.5, linewidth=0)\n",
    "\n",
    "ax.set(xlabel='Number of Prophages in Genome',ylabel='Genome prophage content (bp)')\n",
    "\n",
    "plt.tight_layout()\n",
    "plt.show()\n",
    "\n",
    "slope, intercept, r_value, p_value, std_err = scp.stats.linregress(\n",
    "    x=taxameta['Kept'].astype(float),\n",
    "               y=taxameta['bp prophage'].astype(float))\n",
    "print('The regression statistics for this plot are: slope', slope, 'R2',r_value**2, 'p-value',p_value)\n",
    "\n",
    "fig.savefig('../results/figures/SI/Fig_S1_bp_vs_counts_prophage.png',dpi=300)"
   ]
  },
  {
   "cell_type": "markdown",
   "metadata": {},
   "source": [
    "#### Figure S2\n",
    "\n",
    "All genomes, full size range"
   ]
  },
  {
   "cell_type": "code",
   "execution_count": 340,
   "metadata": {},
   "outputs": [
    {
     "data": {
      "image/png": "[encoded data removed]",
      "text/plain": [
       "<Figure size 204.234x126.224 with 2 Axes>"
      ]
     },
     "metadata": {
      "needs_background": "light"
     },
     "output_type": "display_data"
    },
    {
     "name": "stdout",
     "output_type": "stream",
     "text": [
      "total number of genomes is 575116\n"
     ]
    }
   ],
   "source": [
    "minval = 0\n",
    "bins = list(np.arange(minval,1.2E7,1.4E6))  # 1.2\n",
    "# bins += [2E8]\n",
    "sizePhage = phagemeta.copy()\n",
    "sizePhage = sizePhage[(sizePhage['normalise_by_prok_length'] > 5E4) & (sizePhage['Kept'] >= 0)]\n",
    "# sizePhage = sizePhage[sizePhage['assembly_accession'].isin(newickList)]\n",
    "\n",
    "sizePhage['bin'] = pd.cut(sizePhage['normalise_by_prok_length'], bins)\n",
    "sizePhage[\"bin_centres\"] = sizePhage[\"bin\"].apply(lambda x: x.mid).astype(np.float64)\n",
    "\n",
    "fig, ax = plt.subplots(1,1,figsize=(0.5*fig_width,0.5*fig_height))\n",
    "with plt.rc_context({'lines.linewidth': 0.8}):\n",
    "        s1 = sns.pointplot(x='bin_centres', y='Kept', data=sizePhage,nboot=5000, ax = ax, \n",
    "                  color=colourDict.get('teal'), alpha=0.6, s=8, \n",
    "                 capsize=.3, errwidth=0.6) \n",
    "\n",
    "ax0 = ax.twinx()\n",
    "with plt.rc_context({'lines.linewidth': 0.8}):\n",
    "    s2 = sns.pointplot(x='bin_centres', y='Kept_normed', data=sizePhage, ax=ax0, n_boot=5000,\n",
    "                  color=colourDict.get('wine'), alpha=0.6, s=8, linestyles=':',\n",
    "                 capsize=.3, errwidth=0.6)\n",
    "\n",
    "ax0.xaxis.offsetText.set_visible(False)\n",
    "labels = ax0.get_xticklabels()\n",
    "ax.set(ylabel='Total number prophages',xlabel='bacteria (bp)',xticks =[0.75,2.75,4.75,6.75],xticklabels=[2,4,6,8],\n",
    "      yticks=[0,5,10])\n",
    "ax.text(0.96,  -0.14,'x$10^6$', transform=ax0.transAxes)\n",
    "ax0.set(ylabel='Prophage density',ylim=[0,0.04])\n",
    "\n",
    "L = ax0.legend(s1.lines[:1]+s2.lines[:1], ['A','G'],handlelength=1.5,loc='lower right',bbox_to_anchor=(1.0, 0.05),frameon=False)\n",
    "L.get_texts()[0].set_text('\\# prophages')\n",
    "L.get_texts()[1].set_text('Density')\n",
    "\n",
    "plt.tight_layout()\n",
    "plt.show()\n",
    "print('total number of genomes is', phagemeta.shape[0])\n",
    "\n",
    "fig.savefig('../results/figures/SI/Fig_S1_fulldensity.png',dpi=300)"
   ]
  },
  {
   "cell_type": "markdown",
   "metadata": {},
   "source": [
    "#### Figure S3. Plot Figs 3a and 3b assuming sample date is the isolation date for all genomes."
   ]
  },
  {
   "cell_type": "code",
   "execution_count": 341,
   "metadata": {},
   "outputs": [
    {
     "data": {
      "image/png": "[encoded data removed]",
      "text/plain": [
       "<Figure size 204.234x126.224 with 1 Axes>"
      ]
     },
     "metadata": {
      "needs_background": "light"
     },
     "output_type": "display_data"
    }
   ],
   "source": [
    "taxameta['isolation_date_proxy'] = taxameta.apply(lambda x: updateDate(x,magDateDict),axis=1)\n",
    "\n",
    "fig,ax=plt.subplots(1,1,figsize=(0.5*fig_width,0.5*fig_height))\n",
    "\n",
    "sns.scatterplot(x='isolation_date_proxy', y='Kept', ax = ax, \n",
    "                data=taxameta[taxameta['isolation_date'] > 1850], \n",
    "                marker='+', color=colourDict.get('indigo'), alpha=0.6, s=8)\n",
    "ax.set(ylabel = 'Number of prophage',xlabel='Isolation date')\n",
    "plt.tight_layout()\n",
    "plt.show()\n",
    "fig.savefig('../results/figures/SI/FigS2a.png',dpi=300)"
   ]
  },
  {
   "cell_type": "code",
   "execution_count": 181,
   "metadata": {},
   "outputs": [
    {
     "data": {
      "image/png": "[encoded data removed]",
      "text/plain": [
       "<Figure size 252.447x252.447 with 3 Axes>"
      ]
     },
     "metadata": {
      "needs_background": "light"
     },
     "output_type": "display_data"
    }
   ],
   "source": [
    "tmpKDE2 = taxameta[taxameta['isolation_date_proxy'] > 2000]\n",
    "\n",
    "gr = sns.JointGrid(x='isolation_date_proxy', y='Kept_normed', data=tmpKDE2,xlim=(1999, 2020), ylim=(0, 0.125), height=fig_height) # counts normed by genome length\n",
    "gr.plot_joint(sns.kdeplot, fill=True, cmap=\"light:\"+colourDict.get('indigo'), n_levels=25,cbar=False)\n",
    "gr.plot_marginals(sns.kdeplot, linewidth=0,  fill=True, bw_adjust=1.4,color=colourDict.get('indigo')) # \"#03012d\"\n",
    "\n",
    "gr.ax_joint.set_xlabel('Isolation date')\n",
    "gr.ax_joint.set_ylabel('Number of prophages (normalised)')\n",
    "\n",
    "gr.ax_joint.yaxis.offsetText.set_visible(False)\n",
    "gr.ax_joint.text(x = 1.03, y = 1.07, s = 'x$10^{-6}$', transform=gr.ax_joint.transAxes)#,xy=(0.01,1), xycoords='figure fraction')\n",
    "plt.setp(gr.ax_marg_y.get_yticklabels(), visible=False)\n",
    "\n",
    "plt.show()\n",
    "\n",
    "gr.savefig('../results/figures/SI/FigS2b.png',dpi=300)"
   ]
  },
  {
   "cell_type": "markdown",
   "metadata": {},
   "source": [
    "#### Figure S4. Do the lysogens or non-lysogens become more frequent over time? Or is it consistent?\n",
    "\n",
    "Note that the regression is fitted on data up until 2012, and due to the log scale, 1 has been added to both the x and y data to prevent undefined values. "
   ]
  },
  {
   "cell_type": "code",
   "execution_count": 182,
   "metadata": {},
   "outputs": [
    {
     "data": {
      "image/png": "[encoded data removed]",
      "text/plain": [
       "<Figure size 204.234x126.224 with 1 Axes>"
      ]
     },
     "metadata": {
      "needs_background": "light"
     },
     "output_type": "display_data"
    }
   ],
   "source": [
    "tp = phagemeta[phagemeta['isolation_date'].notnull()]\n",
    "\n",
    "bins2 = np.arange(1810,2020,1)\n",
    "yearTaxa2 = phagemeta.copy()\n",
    "yearTaxa2 = yearTaxa2[~yearTaxa2['isolation_date'].isnull()]\n",
    "yearTaxa2 = yearTaxa2[yearTaxa2['isolation_date'] <= 2019]\n",
    "yearTaxa2['bin'] = pd.cut(phagemeta['isolation_date'], bins2)\n",
    "yearTaxa2[\"bin_centres\"] = yearTaxa2[\"bin\"].apply(lambda x: x.mid).astype(np.float64)\n",
    "# yearTaxa_dropNaN = yearTaxa[~yearTaxa['isolation_date'].isna()]\n",
    "binsets3 = list(yearTaxa2['bin_centres'].unique())\n",
    "yearList3 = []\n",
    "yearList4 = []\n",
    "\n",
    "for binVal in np.sort(binsets3):\n",
    "    num = len(yearTaxa2[yearTaxa2['bin_centres'] == binVal])\n",
    "    subDf = yearTaxa2[yearTaxa2['bin_centres'] == binVal]\n",
    "    numzeros = len(subDf[subDf['Kept'] == 0])\n",
    "    numzeros2 = len(subDf[subDf['Kept'] != 0])\n",
    "    yearList3 += [numzeros]\n",
    "    yearList4 += [numzeros2]\n",
    "\n",
    "\n",
    "xi= np.array(yearList4)+1\n",
    "yi = np.array(yearList3)+1\n",
    "\n",
    "fig, ax = plt.subplots(1,1,figsize=(0.5*fig_width,0.5*fig_height))\n",
    "ax=sns.scatterplot(x=xi,y=yi, color=colourDict.get('teal'),lw=0)\n",
    "ax.set(yscale='log',ylim=[1,1E4],xscale='log', ylabel='non-lysogens',xlabel='lysogens')  \n",
    "\n",
    "\n",
    "idx = len(binsets3) - 7\n",
    "m, b = np.polyfit(np.log(xi[0:idx]), np.log(yi[0:idx]), 1)\n",
    "\n",
    "y_fit = np.exp(m*np.array(np.log(xi) + b))\n",
    "plt.plot(np.array(xi), y_fit)\n",
    "\n",
    "plt.tight_layout()\n",
    "plt.show()\n",
    "\n",
    "fig.savefig('../results/figures/SI/S2-lysogens_non-lysogens.png',dpi=200)"
   ]
  },
  {
   "cell_type": "markdown",
   "metadata": {},
   "source": [
    "### Figure S5: qualitative consistency for Figure 3d at different phylogenetic levels (normalised prophage counts against first isolated) "
   ]
  },
  {
   "cell_type": "code",
   "execution_count": 183,
   "metadata": {},
   "outputs": [
    {
     "data": {
      "image/png": "[encoded data removed]",
      "text/plain": [
       "<Figure size 204.234x126.224 with 1 Axes>"
      ]
     },
     "metadata": {
      "needs_background": "light"
     },
     "output_type": "display_data"
    },
    {
     "data": {
      "image/png": "[encoded data removed]",
      "text/plain": [
       "<Figure size 204.234x126.224 with 1 Axes>"
      ]
     },
     "metadata": {
      "needs_background": "light"
     },
     "output_type": "display_data"
    },
    {
     "data": {
      "image/png": "[encoded data removed]",
      "text/plain": [
       "<Figure size 204.234x126.224 with 1 Axes>"
      ]
     },
     "metadata": {
      "needs_background": "light"
     },
     "output_type": "display_data"
    }
   ],
   "source": [
    "levels = ['class','family','order']\n",
    "\n",
    "for lev in levels:\n",
    "    normtype = 'Kept_normed'\n",
    "    earliestIsoltionDf = taxameta[~taxameta['isolation_date'].isna()][[lev,'isolation_date']\n",
    "                                                                     ].groupby(lev).min().add_suffix('min').reset_index().sort_values(by='isolation_datemin')\n",
    "    earliestDict = dict(zip(earliestIsoltionDf[lev],earliestIsoltionDf['isolation_datemin']))\n",
    "\n",
    "    firstIsolated = taxameta.groupby(lev).mean().reset_index()\n",
    "    firstIsolated = firstIsolated[firstIsolated['isolation_datemin'] > 1850]\n",
    "\n",
    "    fig,ax=plt.subplots(1,1,figsize=(0.5*fig_width,0.5*fig_height))\n",
    "\n",
    "    sns.regplot(x=firstIsolated['isolation_datemin'],y=firstIsolated[normtype],\n",
    "               scatter_kws={'s':10},color=colourDict.get('teal'), ax=ax)\n",
    "\n",
    "    ax.set(xlabel='Date '+lev+' first isolated',ylabel='Avg. prophages (norm)')\n",
    "    plt.tight_layout()\n",
    "    plt.show()\n",
    "    fig.savefig('../results/figures/SI/S4_'+lev+'.png',dpi=200)"
   ]
  },
  {
   "cell_type": "markdown",
   "metadata": {},
   "source": [
    "### Figure S6: Standard deviation of prophage density against prophage density"
   ]
  },
  {
   "cell_type": "code",
   "execution_count": 184,
   "metadata": {},
   "outputs": [
    {
     "data": {
      "image/png": "[encoded data removed]",
      "text/plain": [
       "<Figure size 204.234x126.224 with 1 Axes>"
      ]
     },
     "metadata": {
      "needs_background": "light"
     },
     "output_type": "display_data"
    }
   ],
   "source": [
    "balancedTaxDf = taxameta[taxameta['assembly_accession'].isin(newickList)]\n",
    "level = 'phylum'\n",
    "meanDf = balancedTaxDf.groupby(level).mean().reset_index()\n",
    "stdDf = balancedTaxDf.groupby(level).std().reset_index()\n",
    "\n",
    "fig, ax = plt.subplots(1,1, figsize=(0.5*fig_width,0.5*fig_height))\n",
    "plt.scatter(meanDf['Kept_normed'], stdDf['Kept_normed'],color=colourDict.get('teal'), s=8)\n",
    "\n",
    "ax.set(xlabel='mean prophages (norm)',ylabel='std. dev. prophages (norm)')\n",
    "plt.tight_layout()\n",
    "plt.show()\n",
    "\n",
    "fig.savefig('../results/figures/SI/S6.png',dpi=200)"
   ]
  },
  {
   "cell_type": "code",
   "execution_count": null,
   "metadata": {},
   "outputs": [],
   "source": []
  }
 ],
 "metadata": {
  "kernelspec": {
   "display_name": "Python [conda env:root] *",
   "language": "python",
   "name": "conda-root-py"
  },
  "language_info": {
   "codemirror_mode": {
    "name": "ipython",
    "version": 3
   },
   "file_extension": ".py",
   "mimetype": "text/x-python",
   "name": "python",
   "nbconvert_exporter": "python",
   "pygments_lexer": "ipython3",
   "version": "3.8.5"
  }
 },
 "nbformat": 4,
 "nbformat_minor": 5
}
